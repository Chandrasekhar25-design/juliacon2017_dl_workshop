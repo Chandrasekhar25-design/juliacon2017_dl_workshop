{
 "cells": [
  {
   "cell_type": "markdown",
   "metadata": {},
   "source": [
    "# Deep Learning with Julia #"
   ]
  },
  {
   "cell_type": "markdown",
   "metadata": {},
   "source": [
    "## To get started ##\n",
    "\n",
    "* Use JuliaBox pre-loaded with these notebooks: http://gpu.juliabox.com\n",
    "* **or** download these notebooks from: https://github.com/ninjin/juliacon2017_dl_workshop"
   ]
  },
  {
   "cell_type": "markdown",
   "metadata": {},
   "source": [
    "## About us ##\n",
    "\n",
    "* [Mike Innes](https://mikeinnes.github.io/) ([@MikeInnes](https://github.com/MikeInnes)), Software Engineer, Julia Computing\n",
    "    * Works on the [Juno IDE](http://junolab.org/) and machine learning infrastructure\n",
    "* [Jonathan Malmaud](http://malmaud.com) ([@malmaud](https://github.com/malmaud)), PhD Candidate, Massachusetts Institute of Technology\n",
    "    * Creator of [TensorFlow.jl](https://github.com/malmaud/TensorFlow.jl), long-time Julia contributor\n",
    "* [Pontus Stenetorp](http://pontus.stenetorp.se/) ([@ninjin](https://github.com/ninjin)), Senior Research Associate, University College London\n",
    "    * Enjoys Natural Language Processing research, preferably with Julia"
   ]
  },
  {
   "cell_type": "markdown",
   "metadata": {},
   "source": [
    "## About the workshop ##\n",
    "\n",
    "* Introduction to Deep Learning with Julia\n",
    "    * Minimal assumptions, only high school maths\n",
    "* Goals:\n",
    "    1. Intuitive understanding of Machine Learning and Deep Learning, no more \"magic\"\n",
    "        * Objective/loss function\n",
    "        * Optimisation (training)\n",
    "        * Over/underfitting and regularisation\n",
    "        * Familiarity with some Deep Learning models\n",
    "    2. Know the current Julia infrastructure\n",
    "    3. Build **and debug** models on your own\n",
    "    \n",
    "This is optimistic for 2 hours, but we will try!\n",
    "    "
   ]
  },
  {
   "cell_type": "markdown",
   "metadata": {},
   "source": [
    "## Outline ##\n",
    "\n",
    "1. Deep Learning at a Glance\n",
    "2. Machine Learning from Scratch\n",
    "3. Going deeper\n",
    "4. Jon and Mike!"
   ]
  }
 ],
 "metadata": {
  "kernelspec": {
   "display_name": "Julia 0.6.0-rc2",
   "language": "julia",
   "name": "julia-0.6"
  },
  "language_info": {
   "file_extension": ".jl",
   "mimetype": "application/julia",
   "name": "julia",
   "version": "0.6.0"
  }
 },
 "nbformat": 4,
 "nbformat_minor": 2
}
