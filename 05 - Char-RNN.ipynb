{
 "cells": [
  {
   "cell_type": "markdown",
   "metadata": {},
   "source": [
    "# Character-level text generation with Flux"
   ]
  },
  {
   "cell_type": "markdown",
   "metadata": {},
   "source": [
    "In this tutorial we'll use Flux, a new machine learning library in Julia, to generate nonsense text in the style of a given source.\n",
    "\n",
    "The model works at the character level, meaning that we'll hand it a sequence of characters like \"The qui\" and it will predict `c`, followed by `k`, etc, figuring out that the most likely next word is \"quick\" – then it can go on to predict \"brown\", \"fox\" and so on, letter by letter.\n",
    "\n",
    "Initially, the text will come from a training set, like the works of Shakespeare. But we can also feed the model's own predictions back into itself, allowing it to \"dream\" new data."
   ]
  },
  {
   "cell_type": "markdown",
   "metadata": {},
   "source": [
    "## using Flux"
   ]
  },
  {
   "cell_type": "code",
   "execution_count": 1,
   "metadata": {
    "collapsed": false
   },
   "outputs": [],
   "source": [
    "using Flux"
   ]
  },
  {
   "cell_type": "markdown",
   "metadata": {},
   "source": [
    "Flux works with simple functions."
   ]
  },
  {
   "cell_type": "code",
   "execution_count": 2,
   "metadata": {
    "collapsed": false
   },
   "outputs": [],
   "source": [
    "@net f(x) = x .* x"
   ]
  },
  {
   "cell_type": "markdown",
   "metadata": {},
   "source": [
    "We can wrap those functions so that they will run on a backend, like MXNet."
   ]
  },
  {
   "cell_type": "code",
   "execution_count": 3,
   "metadata": {
    "collapsed": false
   },
   "outputs": [
    {
     "data": {
      "text/plain": [
       "MX.Model(Capacitor(...), CPU0)"
      ]
     },
     "execution_count": 3,
     "metadata": {},
     "output_type": "execute_result"
    }
   ],
   "source": [
    "fmx = mxnet(f)"
   ]
  },
  {
   "cell_type": "markdown",
   "metadata": {},
   "source": [
    "Notice that inputs get converted to Float32s, MXNet's native format."
   ]
  },
  {
   "cell_type": "code",
   "execution_count": 4,
   "metadata": {
    "collapsed": false
   },
   "outputs": [
    {
     "data": {
      "text/plain": [
       "3-element Array{Float32,1}:\n",
       " 1.0\n",
       " 4.0\n",
       " 9.0"
      ]
     },
     "execution_count": 4,
     "metadata": {},
     "output_type": "execute_result"
    }
   ],
   "source": [
    "fmx([1,2,3])"
   ]
  },
  {
   "cell_type": "markdown",
   "metadata": {},
   "source": [
    "We can also use MXNet to take gradients."
   ]
  },
  {
   "cell_type": "code",
   "execution_count": 5,
   "metadata": {
    "collapsed": false
   },
   "outputs": [
    {
     "data": {
      "text/plain": [
       "(Float32[2.0, 4.0, 6.0],)"
      ]
     },
     "execution_count": 5,
     "metadata": {},
     "output_type": "execute_result"
    }
   ],
   "source": [
    "Flux.back!(fmx, [1,1,1],[1,2,3])"
   ]
  },
  {
   "cell_type": "markdown",
   "metadata": {},
   "source": [
    "Try modifying `f` to take, or return, multiple arguments. Are the derivatives correct?"
   ]
  },
  {
   "cell_type": "markdown",
   "metadata": {},
   "source": [
    "## Basic Data Handling"
   ]
  },
  {
   "cell_type": "markdown",
   "metadata": {},
   "source": [
    "ML models are good at handling exactly one kind of data – fixed-size lists of numbers. If we want to work with characters we have to turn them into that format.\n",
    "\n",
    "We can do this by defining an \"alphabet\" and using a one-hot-encoding – a boolean for each character in the alphabet."
   ]
  },
  {
   "cell_type": "code",
   "execution_count": 6,
   "metadata": {
    "collapsed": false
   },
   "outputs": [
    {
     "data": {
      "text/plain": [
       "1×26 RowVector{Int64,Array{Int64,1}}:\n",
       " 0  0  1  0  0  0  0  0  0  0  0  0  0  0  0  0  0  0  0  0  0  0  0  0  0  0"
      ]
     },
     "execution_count": 6,
     "metadata": {},
     "output_type": "execute_result"
    }
   ],
   "source": [
    "using Flux: onehot, onecold\n",
    "alphabet = 'a':'z'\n",
    "onehot('c', alphabet)'"
   ]
  },
  {
   "cell_type": "markdown",
   "metadata": {},
   "source": [
    "This allows us to feed characters into a numerical model. The output of the model will be similarly encoded as a vector, so we can decode it."
   ]
  },
  {
   "cell_type": "code",
   "execution_count": 7,
   "metadata": {
    "collapsed": false
   },
   "outputs": [
    {
     "data": {
      "text/plain": [
       "'l': ASCII/Unicode U+006c (category Ll: Letter, lowercase)"
      ]
     },
     "execution_count": 7,
     "metadata": {},
     "output_type": "execute_result"
    }
   ],
   "source": [
    "onecold(rand(26), alphabet)"
   ]
  },
  {
   "cell_type": "markdown",
   "metadata": {},
   "source": [
    "Here's a simple linear transformation, of the kind you'll have seen earlier in the workshop. We then have a way to transform one letter into another."
   ]
  },
  {
   "cell_type": "code",
   "execution_count": 8,
   "metadata": {
    "collapsed": true
   },
   "outputs": [],
   "source": [
    "W = randn(26,26)\n",
    "b = randn(26)\n",
    "@net f(x) = tanh.(W*x + b)"
   ]
  },
  {
   "cell_type": "code",
   "execution_count": 9,
   "metadata": {
    "collapsed": false
   },
   "outputs": [
    {
     "data": {
      "text/plain": [
       "'l': ASCII/Unicode U+006c (category Ll: Letter, lowercase)"
      ]
     },
     "execution_count": 9,
     "metadata": {},
     "output_type": "execute_result"
    }
   ],
   "source": [
    "onecold(f(onehot('F', alphabet)), alphabet)"
   ]
  },
  {
   "cell_type": "markdown",
   "metadata": {},
   "source": [
    "We will use the notation `f('a') -> 'b'` with the encoding implicit."
   ]
  },
  {
   "cell_type": "markdown",
   "metadata": {},
   "source": [
    "## Recurrent Models\n",
    "\n",
    "A model like `f(x)` above – even a much more complex version – will always return the same output for the same input.\n",
    "\n",
    "Sometimes we'd like this *not* to be true. For example, in our character-level model above, `f('t')` predicts the character that comes after `t`. This clearly varies depending on what's *before* `'t'` – \"lat\" and \"bit\" are probably followed by different letters, like \"later\" and \"bitten\".\n",
    "\n",
    "So we want `f` to access some state from previous times it was called. We can do that with a neat syntax for indexing in time."
   ]
  },
  {
   "cell_type": "code",
   "execution_count": 10,
   "metadata": {
    "collapsed": false
   },
   "outputs": [
    {
     "data": {
      "text/plain": [
       "Stateful(Capacitor(...))"
      ]
     },
     "execution_count": 10,
     "metadata": {},
     "output_type": "execute_result"
    }
   ],
   "source": [
    "count = 0\n",
    "@net function f(x)\n",
    "    count = count{-1} + 1\n",
    "    return x + count\n",
    "end\n",
    "fu = unroll1(f)"
   ]
  },
  {
   "cell_type": "code",
   "execution_count": 11,
   "metadata": {
    "collapsed": false
   },
   "outputs": [
    {
     "data": {
      "text/plain": [
       "1"
      ]
     },
     "execution_count": 11,
     "metadata": {},
     "output_type": "execute_result"
    }
   ],
   "source": [
    "fu(0)"
   ]
  },
  {
   "cell_type": "code",
   "execution_count": 12,
   "metadata": {
    "collapsed": false
   },
   "outputs": [
    {
     "data": {
      "text/plain": [
       "2"
      ]
     },
     "execution_count": 12,
     "metadata": {},
     "output_type": "execute_result"
    }
   ],
   "source": [
    "fu(0)"
   ]
  },
  {
   "cell_type": "markdown",
   "metadata": {},
   "source": [
    "`count` behaves essentially the same as a global variable in this case. `f` is now able to store some aggregate information about all of the information we've seen (in this case just a count).\n",
    "\n",
    "Unlike a global variable, Flux knows about `y` and can do some interesting things with it. For example, we can statically \"unroll\" `f` to take a *sequence* of inputs and outputs."
   ]
  },
  {
   "cell_type": "code",
   "execution_count": 13,
   "metadata": {
    "collapsed": false
   },
   "outputs": [
    {
     "data": {
      "text/plain": [
       "(1, 3, 3, 3, 5)"
      ]
     },
     "execution_count": 13,
     "metadata": {},
     "output_type": "execute_result"
    }
   ],
   "source": [
    "fu = unroll(f, 5)\n",
    "fu((0,1,0,-1,0))"
   ]
  },
  {
   "cell_type": "markdown",
   "metadata": {},
   "source": [
    "With this in mind, here's a basic RNN. It's essentially the same as the affine transform above but includes both the input `x` and the previous prediction `y`. The previous prediction therefore inputs the next one, which is what we wanted."
   ]
  },
  {
   "cell_type": "code",
   "execution_count": 14,
   "metadata": {
    "collapsed": false
   },
   "outputs": [
    {
     "data": {
      "text/plain": [
       "Stateful(Capacitor(...))"
      ]
     },
     "execution_count": 14,
     "metadata": {},
     "output_type": "execute_result"
    }
   ],
   "source": [
    "alphabet = ['a':'z'..., ' ']\n",
    "N = length(alphabet)\n",
    "\n",
    "Wxy = randn(N,N)\n",
    "Wyy = randn(N,N)\n",
    "b = randn(N)\n",
    "y = randn(N)\n",
    "\n",
    "@net function f(x)\n",
    "    y = tanh.(Wxy*x + Wyy*y{-1} + b)\n",
    "end\n",
    "\n",
    "fu = unroll1(f)"
   ]
  },
  {
   "cell_type": "code",
   "execution_count": 15,
   "metadata": {
    "collapsed": false
   },
   "outputs": [
    {
     "data": {
      "text/plain": [
       "'d': ASCII/Unicode U+0064 (category Ll: Letter, lowercase)"
      ]
     },
     "execution_count": 15,
     "metadata": {},
     "output_type": "execute_result"
    }
   ],
   "source": [
    "onecold(fu(onehot('F', alphabet)), alphabet)"
   ]
  },
  {
   "cell_type": "markdown",
   "metadata": {},
   "source": [
    "If you try this a few times you should notice that it doesn't always give the same ouput for the same input. We can use this to generate text already, just by repeatedly predicting the next output from the last."
   ]
  },
  {
   "cell_type": "code",
   "execution_count": 16,
   "metadata": {
    "collapsed": false
   },
   "outputs": [
    {
     "data": {
      "text/plain": [
       "\"anavadnhvaxipfwhwednsxafiefykx hvejosrafwefnrypuxqk\""
      ]
     },
     "execution_count": 16,
     "metadata": {},
     "output_type": "execute_result"
    }
   ],
   "source": [
    "s = ['a']\n",
    "for i = 1:50\n",
    "    push!(s, onecold(fu(onehot(s[end], alphabet)), alphabet))\n",
    "end\n",
    "join(s)"
   ]
  },
  {
   "cell_type": "markdown",
   "metadata": {},
   "source": [
    "This is clearly a long way from Shakespeare, but even with an untrained network one can see that there's some structure; the ouput is not truly random biased towards certain patterns. It's this structure that will be exploited when we train on real data."
   ]
  },
  {
   "cell_type": "code",
   "execution_count": 17,
   "metadata": {
    "collapsed": false
   },
   "outputs": [
    {
     "data": {
      "text/plain": [
       "\"rppumqbwhtjgdkunrebliymayolfmpjxacoixujfadlnbjeojx\""
      ]
     },
     "execution_count": 17,
     "metadata": {},
     "output_type": "execute_result"
    }
   ],
   "source": [
    "join(rand(alphabet, 50))"
   ]
  },
  {
   "cell_type": "markdown",
   "metadata": {},
   "source": [
    "## Getting Data"
   ]
  },
  {
   "cell_type": "code",
   "execution_count": 18,
   "metadata": {
    "collapsed": false
   },
   "outputs": [],
   "source": [
    "using Flux.Batches: Batch, seqs, chunk"
   ]
  },
  {
   "cell_type": "markdown",
   "metadata": {},
   "source": [
    "We can load any text file as input."
   ]
  },
  {
   "cell_type": "code",
   "execution_count": 19,
   "metadata": {
    "collapsed": false
   },
   "outputs": [
    {
     "data": {
      "text/plain": [
       "'F': ASCII/Unicode U+0046 (category Lu: Letter, uppercase)"
      ]
     },
     "execution_count": 19,
     "metadata": {},
     "output_type": "execute_result"
    }
   ],
   "source": [
    "input = readstring(\"res/shakespeare_input.txt\")\n",
    "alphabet = unique(input)\n",
    "N = length(alphabet)\n",
    "first(input)"
   ]
  },
  {
   "cell_type": "markdown",
   "metadata": {},
   "source": [
    "We don't actually want to work with characters directly, but with sequences of encodings. So `encode` encodes each character and then groups them all together in `Seq`s of length 50."
   ]
  },
  {
   "cell_type": "code",
   "execution_count": 20,
   "metadata": {
    "collapsed": false
   },
   "outputs": [
    {
     "data": {
      "text/plain": [
       "50-element Flux.Batches.Seq{Array{Int64,1},Array{Int64,2}}:\n",
       " [1, 0, 0, 0, 0, 0, 0, 0, 0, 0  …  0, 0, 0, 0, 0, 0, 0, 0, 0, 0]\n",
       " [0, 1, 0, 0, 0, 0, 0, 0, 0, 0  …  0, 0, 0, 0, 0, 0, 0, 0, 0, 0]\n",
       " [0, 0, 1, 0, 0, 0, 0, 0, 0, 0  …  0, 0, 0, 0, 0, 0, 0, 0, 0, 0]\n",
       " [0, 0, 0, 1, 0, 0, 0, 0, 0, 0  …  0, 0, 0, 0, 0, 0, 0, 0, 0, 0]\n",
       " [0, 0, 0, 0, 1, 0, 0, 0, 0, 0  …  0, 0, 0, 0, 0, 0, 0, 0, 0, 0]\n",
       " [0, 0, 0, 0, 0, 1, 0, 0, 0, 0  …  0, 0, 0, 0, 0, 0, 0, 0, 0, 0]\n",
       " [0, 0, 0, 0, 0, 0, 1, 0, 0, 0  …  0, 0, 0, 0, 0, 0, 0, 0, 0, 0]\n",
       " [0, 1, 0, 0, 0, 0, 0, 0, 0, 0  …  0, 0, 0, 0, 0, 0, 0, 0, 0, 0]\n",
       " [0, 0, 0, 0, 1, 0, 0, 0, 0, 0  …  0, 0, 0, 0, 0, 0, 0, 0, 0, 0]\n",
       " [0, 1, 0, 0, 0, 0, 0, 0, 0, 0  …  0, 0, 0, 0, 0, 0, 0, 0, 0, 0]\n",
       " [0, 0, 0, 0, 0, 0, 0, 1, 0, 0  …  0, 0, 0, 0, 0, 0, 0, 0, 0, 0]\n",
       " [0, 0, 0, 0, 0, 0, 0, 0, 1, 0  …  0, 0, 0, 0, 0, 0, 0, 0, 0, 0]\n",
       " [0, 0, 0, 0, 0, 0, 0, 0, 0, 1  …  0, 0, 0, 0, 0, 0, 0, 0, 0, 0]\n",
       " ⋮                                                              \n",
       " [0, 0, 0, 0, 0, 0, 0, 0, 0, 0  …  0, 0, 0, 0, 0, 0, 0, 0, 0, 0]\n",
       " [0, 0, 1, 0, 0, 0, 0, 0, 0, 0  …  0, 0, 0, 0, 0, 0, 0, 0, 0, 0]\n",
       " [0, 0, 0, 0, 1, 0, 0, 0, 0, 0  …  0, 0, 0, 0, 0, 0, 0, 0, 0, 0]\n",
       " [0, 0, 0, 0, 0, 0, 0, 0, 0, 0  …  0, 0, 0, 0, 0, 0, 0, 0, 0, 0]\n",
       " [0, 0, 0, 0, 0, 0, 0, 0, 1, 0  …  0, 0, 0, 0, 0, 0, 0, 0, 0, 0]\n",
       " [0, 0, 1, 0, 0, 0, 0, 0, 0, 0  …  0, 0, 0, 0, 0, 0, 0, 0, 0, 0]\n",
       " [0, 0, 0, 0, 0, 0, 0, 0, 0, 0  …  0, 0, 0, 0, 0, 0, 0, 0, 0, 0]\n",
       " [0, 0, 0, 0, 0, 1, 0, 0, 0, 0  …  0, 0, 0, 0, 0, 0, 0, 0, 0, 0]\n",
       " [0, 0, 0, 0, 0, 0, 0, 0, 0, 0  …  0, 0, 0, 0, 0, 0, 0, 0, 0, 0]\n",
       " [0, 0, 0, 0, 0, 0, 0, 0, 1, 0  …  0, 0, 0, 0, 0, 0, 0, 0, 0, 0]\n",
       " [0, 0, 0, 0, 0, 0, 0, 0, 0, 0  …  0, 0, 0, 0, 0, 0, 0, 0, 0, 0]\n",
       " [0, 0, 1, 0, 0, 0, 0, 0, 0, 0  …  0, 0, 0, 0, 0, 0, 0, 0, 0, 0]"
      ]
     },
     "execution_count": 20,
     "metadata": {},
     "output_type": "execute_result"
    }
   ],
   "source": [
    "encode(input) = seqs((onehot(ch, alphabet) for ch in input), 50)\n",
    "first(encode(input))"
   ]
  },
  {
   "cell_type": "markdown",
   "metadata": {},
   "source": [
    "We also need to batch a set of sequences together so that we can work on them all at once.\n",
    "\n",
    "`Xs` are our inputs and `Ys` are our outputs. Notice that we construct them in exactly the same way; `Ys` is just `Xs` but offset by 1, since the model should predict the next character in the sequence."
   ]
  },
  {
   "cell_type": "code",
   "execution_count": 21,
   "metadata": {
    "collapsed": false
   },
   "outputs": [
    {
     "name": "stderr",
     "output_type": "stream",
     "text": [
      "\u001b[1m\u001b[33mWARNING: \u001b[39m\u001b[22m\u001b[33mPartial linear indexing is deprecated. Use `reshape` to make the dimensionality of the array match the number of indices.\u001b[39m\n",
      "Stacktrace:\n",
      " [1] \u001b[1mpartial_linear_indexing_warning_lookup\u001b[22m\u001b[22m\u001b[1m(\u001b[22m\u001b[22m::Int64\u001b[1m)\u001b[22m\u001b[22m at \u001b[1m./deprecated.jl:1065\u001b[22m\u001b[22m\n",
      " [2] \u001b[1mcheckbounds_linear_indices\u001b[22m\u001b[22m at \u001b[1m./abstractarray.jl:423\u001b[22m\u001b[22m [inlined]\n",
      " [3] \u001b[1mcheckbounds_indices\u001b[22m\u001b[22m at \u001b[1m./abstractarray.jl:406\u001b[22m\u001b[22m [inlined]\n",
      " [4] \u001b[1mcheckbounds_indices\u001b[22m\u001b[22m at \u001b[1m./abstractarray.jl:389\u001b[22m\u001b[22m [inlined]\n",
      " [5] \u001b[1mcheckbounds\u001b[22m\u001b[22m at \u001b[1m./abstractarray.jl:342\u001b[22m\u001b[22m [inlined]\n",
      " [6] \u001b[1mcheckbounds\u001b[22m\u001b[22m at \u001b[1m./abstractarray.jl:362\u001b[22m\u001b[22m [inlined]\n",
      " [7] \u001b[1mmacro expansion\u001b[22m\u001b[22m at \u001b[1m./multidimensional.jl:487\u001b[22m\u001b[22m [inlined]\n",
      " [8] \u001b[1m_setindex!\u001b[22m\u001b[22m at \u001b[1m./multidimensional.jl:484\u001b[22m\u001b[22m [inlined]\n",
      " [9] \u001b[1msetindex!\u001b[22m\u001b[22m at \u001b[1m./abstractarray.jl:967\u001b[22m\u001b[22m [inlined]\n",
      " [10] \u001b[1mFlux.Batches.Storage{Flux.Batches.Seq{Array{Int64,1},Array{Int64,2}},Array{Int64,3}}\u001b[22m\u001b[22m\u001b[1m(\u001b[22m\u001b[22m::NTuple{50,Array{Int64,2}}, ::Array{Int64,3}\u001b[1m)\u001b[22m\u001b[22m at \u001b[1m/Users/mike/.julia/v0.6/Flux/src/Batches/catmat.jl:16\u001b[22m\u001b[22m\n",
      " [11] \u001b[1mFlux.Batches.Storage{Flux.Batches.Seq{Array{Int64,1},Array{Int64,2}},Array{Int64,3}}\u001b[22m\u001b[22m\u001b[1m(\u001b[22m\u001b[22m::NTuple{50,Flux.Batches.Seq{Array{Int64,1},Array{Int64,2}}}\u001b[1m)\u001b[22m\u001b[22m at \u001b[1m/Users/mike/.julia/v0.6/Flux/src/Batches/catmat.jl:24\u001b[22m\u001b[22m\n",
      " [12] \u001b[1mFlux.Batches.Storage{Flux.Batches.Seq{Array{Int64,1},Array{Int64,2}},S} where S\u001b[22m\u001b[22m\u001b[1m(\u001b[22m\u001b[22m::NTuple{50,Flux.Batches.Seq{Array{Int64,1},Array{Int64,2}}}\u001b[1m)\u001b[22m\u001b[22m at \u001b[1m/Users/mike/.julia/v0.6/Flux/src/Batches/catmat.jl:27\u001b[22m\u001b[22m\n",
      " [13] \u001b[1mfirst\u001b[22m\u001b[22m\u001b[1m(\u001b[22m\u001b[22m::Base.Generator{Base.Iterators.Zip{Base.Generator{Base.Iterators.Take{Base.Iterators.PartitionIterator{Base.Generator{Array{Char,1},##1#2}}},Flux.Batches.##7#8},Base.Iterators.Zip{Base.Generator{Base.Iterators.Take{Base.Iterators.PartitionIterator{Base.Generator{Array{Char,1},##1#2}}},Flux.Batches.##7#8},Base.Iterators.Zip{Base.Generator{Base.Iterators.Take{Base.Iterators.PartitionIterator{Base.Generator{Array{Char,1},##1#2}}},Flux.Batches.##7#8},Base.Iterators.Zip{Base.Generator{Base.Iterators.Take{Base.Iterators.PartitionIterator{Base.Generator{Array{Char,1},##1#2}}},Flux.Batches.##7#8},Base.Iterators.Zip{Base.Generator{Base.Iterators.Take{Base.Iterators.PartitionIterator{Base.Generator{Array{Char,1},##1#2}}},Flux.Batches.##7#8},Base.Iterators.Zip{Base.Generator{Base.Iterators.Take{Base.Iterators.PartitionIterator{Base.Generator{Array{Char,1},##1#2}}},Flux.Batches.##7#8},Base.Iterators.Zip{Base.Generator{Base.Iterators.Take{Base.Iterators.PartitionIterator{Base.Generator{Array{Char,1},##1#2}}},Flux.Batches.##7#8},Base.Iterators.Zip{Base.Generator{Base.Iterators.Take{Base.Iterators.PartitionIterator{Base.Generator{Array{Char,1},##1#2}}},Flux.Batches.##7#8},Base.Iterators.Zip{Base.Generator{Base.Iterators.Take{Base.Iterators.PartitionIterator{Base.Generator{Array{Char,1},##1#2}}},Flux.Batches.##7#8},Base.Iterators.Zip{Base.Generator{Base.Iterators.Take{Base.Iterators.PartitionIterator{Base.Generator{Array{Char,1},##1#2}}},Flux.Batches.##7#8},Base.Iterators.Zip{Base.Generator{Base.Iterators.Take{Base.Iterators.PartitionIterator{Base.Generator{Array{Char,1},##1#2}}},Flux.Batches.##7#8},Base.Iterators.Zip{Base.Generator{Base.Iterators.Take{Base.Iterators.PartitionIterator{Base.Generator{Array{Char,1},##1#2}}},Flux.Batches.##7#8},Base.Iterators.Zip{Base.Generator{Base.Iterators.Take{Base.Iterators.PartitionIterator{Base.Generator{Array{Char,1},##1#2}}},Flux.Batches.##7#8},Base.Iterators.Zip{Base.Generator{Base.Iterators.Take{Base.Iterators.PartitionIterator{Base.Generator{Array{Char,1},##1#2}}},Flux.Batches.##7#8},Base.Iterators.Zip{Base.Generator{Base.Iterators.Take{Base.Iterators.PartitionIterator{Base.Generator{Array{Char,1},##1#2}}},Flux.Batches.##7#8},Base.Iterators.Zip{Base.Generator{Base.Iterators.Take{Base.Iterators.PartitionIterator{Base.Generator{Array{Char,1},##1#2}}},Flux.Batches.##7#8},Base.Iterators.Zip{Base.Generator{Base.Iterators.Take{Base.Iterators.PartitionIterator{Base.Generator{Array{Char,1},##1#2}}},Flux.Batches.##7#8},Base.Iterators.Zip{Base.Generator{Base.Iterators.Take{Base.Iterators.PartitionIterator{Base.Generator{Array{Char,1},##1#2}}},Flux.Batches.##7#8},Base.Iterators.Zip{Base.Generator{Base.Iterators.Take{Base.Iterators.PartitionIterator{Base.Generator{Array{Char,1},##1#2}}},Flux.Batches.##7#8},Base.Iterators.Zip{Base.Generator{Base.Iterators.Take{Base.Iterators.PartitionIterator{Base.Generator{Array{Char,1},##1#2}}},Flux.Batches.##7#8},Base.Iterators.Zip{Base.Generator{Base.Iterators.Take{Base.Iterators.PartitionIterator{Base.Generator{Array{Char,1},##1#2}}},Flux.Batches.##7#8},Base.Iterators.Zip{Base.Generator{Base.Iterators.Take{Base.Iterators.PartitionIterator{Base.Generator{Array{Char,1},##1#2}}},Flux.Batches.##7#8},Base.Iterators.Zip{Base.Generator{Base.Iterators.Take{Base.Iterators.PartitionIterator{Base.Generator{Array{Char,1},##1#2}}},Flux.Batches.##7#8},Base.Iterators.Zip{Base.Generator{Base.Iterators.Take{Base.Iterators.PartitionIterator{Base.Generator{Array{Char,1},##1#2}}},Flux.Batches.##7#8},Base.Iterators.Zip{Base.Generator{Base.Iterators.Take{Base.Iterators.PartitionIterator{Base.Generator{Array{Char,1},##1#2}}},Flux.Batches.##7#8},Base.Iterators.Zip{Base.Generator{Base.Iterators.Take{Base.Iterators.PartitionIterator{Base.Generator{Array{Char,1},##1#2}}},Flux.Batches.##7#8},Base.Iterators.Zip{Base.Generator{Base.Iterators.Take{Base.Iterators.PartitionIterator{Base.Generator{Array{Char,1},##1#2}}},Flux.Batches.##7#8},Base.Iterators.Zip{Base.Generator{Base.Iterators.Take{Base.Iterators.PartitionIterator{Base.Generator{Array{Char,1},##1#2}}},Flux.Batches.##7#8},Base.Iterators.Zip{Base.Generator{Base.Iterators.Take{Base.Iterators.PartitionIterator{Base.Generator{Array{Char,1},##1#2}}},Flux.Batches.##7#8},Base.Iterators.Zip{Base.Generator{Base.Iterators.Take{Base.Iterators.PartitionIterator{Base.Generator{Array{Char,1},##1#2}}},Flux.Batches.##7#8},Base.Iterators.Zip{Base.Generator{Base.Iterators.Take{Base.Iterators.PartitionIterator{Base.Generator{Array{Char,1},##1#2}}},Flux.Batches.##7#8},Base.Iterators.Zip{Base.Generator{Base.Iterators.Take{Base.Iterators.PartitionIterator{Base.Generator{Array{Char,1},##1#2}}},Flux.Batches.##7#8},Base.Iterators.Zip{Base.Generator{Base.Iterators.Take{Base.Iterators.PartitionIterator{Base.Generator{Array{Char,1},##1#2}}},Flux.Batches.##7#8},Base.Iterators.Zip{Base.Generator{Base.Iterators.Take{Base.Iterators.PartitionIterator{Base.Generator{Array{Char,1},##1#2}}},Flux.Batches.##7#8},Base.Iterators.Zip{Base.Generator{Base.Iterators.Take{Base.Iterators.PartitionIterator{Base.Generator{Array{Char,1},##1#2}}},Flux.Batches.##7#8},Base.Iterators.Zip{Base.Generator{Base.Iterators.Take{Base.Iterators.PartitionIterator{Base.Generator{Array{Char,1},##1#2}}},Flux.Batches.##7#8},Base.Iterators.Zip{Base.Generator{Base.Iterators.Take{Base.Iterators.PartitionIterator{Base.Generator{Array{Char,1},##1#2}}},Flux.Batches.##7#8},Base.Iterators.Zip{Base.Generator{Base.Iterators.Take{Base.Iterators.PartitionIterator{Base.Generator{Array{Char,1},##1#2}}},Flux.Batches.##7#8},Base.Iterators.Zip{Base.Generator{Base.Iterators.Take{Base.Iterators.PartitionIterator{Base.Generator{Array{Char,1},##1#2}}},Flux.Batches.##7#8},Base.Iterators.Zip{Base.Generator{Base.Iterators.Take{Base.Iterators.PartitionIterator{Base.Generator{Array{Char,1},##1#2}}},Flux.Batches.##7#8},Base.Iterators.Zip{Base.Generator{Base.Iterators.Take{Base.Iterators.PartitionIterator{Base.Generator{Array{Char,1},##1#2}}},Flux.Batches.##7#8},Base.Iterators.Zip{Base.Generator{Base.Iterators.Take{Base.Iterators.PartitionIterator{Base.Generator{Array{Char,1},##1#2}}},Flux.Batches.##7#8},Base.Iterators.Zip{Base.Generator{Base.Iterators.Take{Base.Iterators.PartitionIterator{Base.Generator{Array{Char,1},##1#2}}},Flux.Batches.##7#8},Base.Iterators.Zip{Base.Generator{Base.Iterators.Take{Base.Iterators.PartitionIterator{Base.Generator{Array{Char,1},##1#2}}},Flux.Batches.##7#8},Base.Iterators.Zip{Base.Generator{Base.Iterators.Take{Base.Iterators.PartitionIterator{Base.Generator{Array{Char,1},##1#2}}},Flux.Batches.##7#8},Base.Iterators.Zip{Base.Generator{Base.Iterators.Take{Base.Iterators.PartitionIterator{Base.Generator{Array{Char,1},##1#2}}},Flux.Batches.##7#8},Base.Iterators.Zip{Base.Generator{Base.Iterators.Take{Base.Iterators.PartitionIterator{Base.Generator{Array{Char,1},##1#2}}},Flux.Batches.##7#8},Base.Iterators.Zip{Base.Generator{Base.Iterators.Take{Base.Iterators.PartitionIterator{Base.Generator{Array{Char,1},##1#2}}},Flux.Batches.##7#8},Base.Iterators.Zip2{Base.Generator{Base.Iterators.Take{Base.Iterators.PartitionIterator{Base.Generator{Array{Char,1},##1#2}}},Flux.Batches.##7#8},Base.Generator{Base.Iterators.Take{Base.Iterators.PartitionIterator{Base.Generator{Array{Char,1},##1#2}}},Flux.Batches.##7#8}}}}}}}}}}}}}}}}}}}}}}}}}}}}}}}}}}}}}}}}}}}}}}}}}},Type{Flux.Batches.Batch}}\u001b[1m)\u001b[22m\u001b[22m at \u001b[1m./abstractarray.jl:154\u001b[22m\u001b[22m\n",
      " [14] \u001b[1minclude_string\u001b[22m\u001b[22m\u001b[1m(\u001b[22m\u001b[22m::String, ::String\u001b[1m)\u001b[22m\u001b[22m at \u001b[1m./loading.jl:515\u001b[22m\u001b[22m\n",
      " [15] \u001b[1mexecute_request\u001b[22m\u001b[22m\u001b[1m(\u001b[22m\u001b[22m::ZMQ.Socket, ::IJulia.Msg\u001b[1m)\u001b[22m\u001b[22m at \u001b[1m/Users/mike/.julia/v0.6/IJulia/src/execute_request.jl:156\u001b[22m\u001b[22m\n",
      " [16] \u001b[1meventloop\u001b[22m\u001b[22m\u001b[1m(\u001b[22m\u001b[22m::ZMQ.Socket\u001b[1m)\u001b[22m\u001b[22m at \u001b[1m/Users/mike/.julia/v0.6/IJulia/src/eventloop.jl:8\u001b[22m\u001b[22m\n",
      " [17] \u001b[1m(::IJulia.##9#12)\u001b[22m\u001b[22m\u001b[1m(\u001b[22m\u001b[22m\u001b[1m)\u001b[22m\u001b[22m at \u001b[1m./task.jl:335\u001b[22m\u001b[22m\n",
      "while loading In[21], in expression starting on line 3\n"
     ]
    },
    {
     "data": {
      "text/plain": [
       "50×50×67 Array{Int64,3}:\n",
       "[:, :, 1] =\n",
       " 1  0  0  0  0  0  0  0  0  0  0  0  0  …  0  0  0  0  0  0  0  0  0  0  0  0\n",
       " 0  0  0  0  0  0  0  0  0  0  0  0  0     1  0  0  0  0  0  0  0  0  0  0  0\n",
       " 0  0  0  0  0  0  0  0  0  0  0  0  0     0  0  0  0  0  0  0  0  0  0  0  0\n",
       " 0  0  0  0  0  0  0  0  0  0  0  0  0     0  0  0  0  0  0  0  0  0  0  0  0\n",
       " 0  0  0  0  0  0  0  0  0  0  0  0  0     0  0  0  0  0  0  0  0  0  0  0  0\n",
       " 0  0  0  0  0  0  0  0  0  0  0  0  0  …  0  0  0  0  0  0  0  0  0  0  0  0\n",
       " 0  0  0  0  0  0  0  0  0  0  0  0  0     0  0  0  0  0  0  0  0  0  0  0  0\n",
       " 0  0  0  0  0  0  0  0  0  0  0  0  0     0  0  0  0  0  0  0  0  0  0  0  0\n",
       " 0  0  0  0  0  0  0  0  0  0  0  0  0     0  0  0  0  0  0  0  0  0  0  0  0\n",
       " 0  0  0  0  0  0  0  0  0  0  0  0  0     0  0  0  0  0  0  0  0  0  0  0  0\n",
       " 0  0  0  0  0  0  0  0  0  0  0  0  0  …  0  0  0  0  0  0  0  0  0  0  0  0\n",
       " 0  0  0  0  0  0  0  0  0  0  0  0  0     0  0  0  0  0  0  0  0  0  0  0  0\n",
       " 0  0  0  0  0  0  0  0  0  0  0  0  0     0  0  0  0  0  0  0  0  0  0  0  0\n",
       " ⋮              ⋮              ⋮        ⋱        ⋮              ⋮            \n",
       " 0  0  0  0  0  0  0  0  0  0  0  0  0     1  0  0  0  0  0  0  0  0  0  0  0\n",
       " 0  0  0  0  0  0  0  0  0  0  0  0  0     0  0  0  0  0  0  0  0  0  0  0  0\n",
       " 0  0  0  0  0  0  0  0  0  0  0  0  0  …  0  0  0  0  0  0  0  0  0  0  0  0\n",
       " 0  0  0  0  0  0  0  0  0  0  0  0  0     0  0  0  0  0  0  0  0  0  0  0  0\n",
       " 0  0  0  0  0  0  0  0  0  0  0  0  0     0  0  0  0  0  0  0  0  0  0  0  0\n",
       " 0  0  0  0  0  0  0  0  0  0  0  0  0     0  0  0  0  0  0  0  0  0  0  0  0\n",
       " 0  0  0  0  0  0  0  0  0  0  0  0  0     0  0  0  0  0  0  0  0  0  0  0  0\n",
       " 0  0  0  0  0  0  0  0  0  0  0  0  0  …  0  0  0  0  0  0  0  0  0  0  0  0\n",
       " 0  0  0  0  0  0  0  0  0  0  0  0  0     0  0  0  0  0  0  0  0  0  0  0  0\n",
       " 0  0  0  0  0  0  0  0  0  0  0  0  0     0  0  0  0  0  0  0  0  0  0  0  0\n",
       " 0  0  0  0  0  0  0  0  0  0  0  0  0     0  0  0  0  0  0  0  0  0  0  0  0\n",
       " 0  0  0  0  0  0  0  0  0  0  0  0  0     0  0  0  0  0  0  0  0  0  0  0  0\n",
       "\n",
       "[:, :, 2] =\n",
       " 0  1  0  0  0  0  0  1  0  1  0  0  0  …  0  0  0  0  0  0  0  0  0  0  0  0\n",
       " 0  0  0  0  0  0  0  0  0  0  0  0  0     0  1  0  0  0  0  0  0  0  0  0  0\n",
       " 0  0  0  0  0  0  0  0  1  0  0  0  0     0  0  0  0  0  0  0  0  0  0  0  0\n",
       " 0  0  0  0  0  0  0  0  0  0  0  1  0     0  0  0  0  0  0  0  0  0  0  0  0\n",
       " 0  0  0  0  0  1  0  0  0  0  0  0  0     0  0  0  0  0  0  0  0  0  0  0  1\n",
       " 0  0  0  0  0  0  1  0  0  0  0  0  0  …  0  0  0  0  0  0  0  0  1  0  0  0\n",
       " 0  0  0  0  0  0  0  0  0  0  0  0  0     0  0  0  0  0  0  0  0  0  0  0  0\n",
       " 0  1  0  0  0  0  0  0  0  0  0  0  0     0  0  0  0  0  0  0  0  0  1  0  0\n",
       " 0  0  0  0  0  0  0  1  0  0  0  0  0     0  0  0  0  0  0  0  0  0  1  0  0\n",
       " 0  0  0  0  0  0  0  0  0  0  0  0  0     0  0  0  0  0  0  0  0  0  0  0  0\n",
       " 0  0  0  0  0  0  0  0  1  0  0  0  0  …  0  0  1  0  0  0  0  0  0  0  0  0\n",
       " 0  0  0  0  0  0  0  0  0  0  0  0  0     0  0  0  0  0  0  0  0  0  0  0  0\n",
       " 0  1  0  0  0  0  0  0  0  0  0  0  0     0  0  0  0  0  1  0  0  0  0  0  0\n",
       " ⋮              ⋮              ⋮        ⋱        ⋮              ⋮            \n",
       " 0  0  0  0  0  0  0  0  0  1  0  0  0     0  0  0  0  0  0  0  0  0  0  0  0\n",
       " 0  0  0  0  0  0  0  0  0  0  0  0  0     0  0  0  0  0  0  0  0  0  0  0  0\n",
       " 0  0  0  0  0  0  0  0  0  0  0  0  0  …  0  0  0  0  0  0  0  0  1  0  0  0\n",
       " 0  0  0  0  0  0  0  0  0  1  0  0  0     0  0  0  0  0  0  0  0  0  0  0  0\n",
       " 0  0  0  0  0  0  0  0  0  0  0  0  0     0  0  0  0  0  0  0  0  0  0  0  0\n",
       " 0  0  0  0  1  0  0  0  1  0  0  0  0     0  0  0  0  1  0  0  0  0  1  0  0\n",
       " 0  0  0  0  0  0  0  0  0  0  0  0  0     0  0  0  0  1  0  0  0  0  0  0  0\n",
       " 0  0  0  0  0  0  0  0  0  0  0  0  0  …  0  0  1  0  0  0  0  0  0  0  0  1\n",
       " 0  0  0  0  0  0  0  0  0  0  0  0  0     0  0  0  0  0  0  0  1  0  0  0  0\n",
       " 0  1  0  0  0  0  0  0  0  0  0  0  0     0  0  0  0  0  0  0  1  0  0  0  0\n",
       " 0  0  0  0  0  0  0  0  0  0  0  0  0     0  0  0  0  0  0  0  0  0  0  0  0\n",
       " 0  0  0  0  0  0  0  0  0  0  0  0  0     0  0  0  0  0  0  0  0  0  0  0  0\n",
       "\n",
       "[:, :, 3] =\n",
       " 0  0  1  0  0  0  0  0  0  0  0  0  0  …  0  1  0  0  0  1  0  0  0  0  0  1\n",
       " 0  0  0  0  0  0  0  0  0  0  0  0  0     0  0  1  0  0  0  0  0  0  0  0  0\n",
       " 0  0  0  0  0  0  0  0  0  0  0  0  0     0  0  1  0  0  0  0  0  0  0  0  0\n",
       " 0  0  0  0  0  0  0  0  0  0  0  0  0     0  0  0  0  0  0  0  0  0  0  0  0\n",
       " 0  0  0  0  0  0  0  0  0  0  0  0  0     0  0  0  0  0  0  0  0  0  0  0  0\n",
       " 0  0  0  1  0  0  0  0  0  0  0  1  0  …  0  0  0  0  0  1  0  0  0  0  1  0\n",
       " 0  0  0  0  0  0  0  0  0  0  1  0  0     0  0  0  1  0  0  0  0  0  0  0  0\n",
       " 0  0  0  0  0  0  0  0  0  0  1  0  0     0  0  0  0  0  0  1  0  0  0  0  0\n",
       " 0  0  0  0  1  0  0  0  0  0  0  0  0     0  0  1  0  0  0  0  1  0  0  0  0\n",
       " 0  0  0  0  0  0  0  0  0  0  0  0  0     0  0  0  0  0  0  0  0  0  0  0  0\n",
       " 1  0  0  0  0  0  0  0  0  0  0  0  0  …  0  0  0  0  0  0  0  0  0  0  1  1\n",
       " 0  0  0  0  0  1  0  0  0  0  0  0  0     0  1  0  0  0  0  0  0  0  0  1  0\n",
       " 0  0  0  0  0  0  0  0  0  0  0  0  0     0  0  0  0  0  0  0  0  0  0  0  0\n",
       " ⋮              ⋮              ⋮        ⋱        ⋮              ⋮            \n",
       " 0  0  0  0  0  0  0  0  0  0  0  0  0     0  0  1  0  0  0  0  0  0  0  0  0\n",
       " 0  0  0  0  0  0  0  0  0  0  1  1  0     0  0  0  0  0  0  0  0  0  0  0  0\n",
       " 0  0  0  0  0  0  0  0  0  0  0  0  0  …  0  0  1  0  0  0  0  0  0  0  0  0\n",
       " 0  0  0  0  0  0  0  0  0  0  0  0  0     0  0  0  0  0  0  0  0  0  1  0  0\n",
       " 0  0  0  0  0  0  0  0  0  0  0  0  0     0  0  0  0  0  0  0  0  0  0  0  0\n",
       " 0  0  0  0  0  0  0  0  0  0  0  0  0     0  0  0  0  0  0  0  0  0  0  0  0\n",
       " 0  0  0  0  0  0  0  0  0  0  0  0  0     0  0  0  0  0  0  0  0  0  0  0  0\n",
       " 1  0  0  0  0  0  0  0  0  0  0  0  0  …  1  0  0  0  0  0  0  0  0  0  0  0\n",
       " 0  0  0  0  0  0  0  0  1  0  0  0  0     0  0  0  0  0  1  0  0  0  0  0  1\n",
       " 0  0  0  0  0  0  0  0  0  0  0  0  1     0  0  0  0  1  0  0  0  0  0  0  0\n",
       " 0  0  0  0  0  0  0  0  0  0  0  0  0     0  1  0  0  0  0  0  0  0  0  1  0\n",
       " 0  0  0  0  0  0  0  0  0  0  0  0  0     0  0  0  0  1  0  0  1  0  0  0  0\n",
       "\n",
       "...\n",
       "\n",
       "[:, :, 65] =\n",
       " 0  0  0  0  0  0  0  0  0  0  0  0  0  …  0  0  0  0  0  0  0  0  0  0  0  0\n",
       " 0  0  0  0  0  0  0  0  0  0  0  0  0     0  0  0  0  0  0  0  0  0  0  0  0\n",
       " 0  0  0  0  0  0  0  0  0  0  0  0  0     0  0  0  0  0  0  0  0  0  0  0  0\n",
       " 0  0  0  0  0  0  0  0  0  0  0  0  0     0  0  0  0  0  0  0  0  0  0  0  0\n",
       " 0  0  0  0  0  0  0  0  0  0  0  0  0     0  0  0  0  0  0  0  0  0  0  0  0\n",
       " 0  0  0  0  0  0  0  0  0  0  0  0  0  …  0  0  0  0  0  0  0  0  0  0  0  0\n",
       " 0  0  0  0  0  0  0  0  0  0  0  0  0     0  0  0  0  0  0  0  0  0  0  0  0\n",
       " 0  0  0  0  0  0  0  0  0  0  0  0  0     0  0  0  0  0  0  0  0  0  0  0  0\n",
       " 0  0  0  0  0  0  0  0  0  0  0  0  0     0  0  0  0  0  0  0  0  0  0  0  0\n",
       " 0  0  0  0  0  0  0  0  0  0  0  0  0     0  0  0  0  0  0  0  0  0  0  0  0\n",
       " 0  0  0  0  0  0  0  0  0  0  0  0  0  …  0  0  0  0  0  0  0  0  0  0  0  0\n",
       " 0  0  0  0  0  0  0  0  0  0  0  0  0     0  0  0  0  0  0  0  0  0  0  0  0\n",
       " 0  0  0  0  0  0  0  0  0  0  0  0  0     0  0  0  0  0  0  0  0  0  0  0  0\n",
       " ⋮              ⋮              ⋮        ⋱        ⋮              ⋮            \n",
       " 0  0  0  0  0  0  0  0  0  0  0  0  0     0  0  0  0  0  0  0  0  0  0  0  0\n",
       " 0  0  0  0  0  0  0  0  0  0  0  0  0     0  0  0  0  0  0  0  0  0  0  0  0\n",
       " 0  0  0  0  0  0  0  0  0  0  0  0  0  …  0  0  0  0  0  0  0  0  0  0  0  0\n",
       " 0  0  0  0  0  0  0  0  0  0  0  0  0     0  0  0  0  0  0  0  0  0  0  0  0\n",
       " 0  0  0  0  0  0  0  0  0  0  0  0  0     0  0  0  0  0  0  0  0  0  0  0  0\n",
       " 0  0  0  0  0  0  0  0  0  0  0  0  0     0  0  0  0  0  0  0  0  0  0  0  0\n",
       " 0  0  0  0  0  0  0  0  0  0  0  0  0     0  0  0  0  0  0  0  0  0  0  0  0\n",
       " 0  0  0  0  0  0  0  0  0  0  0  0  0  …  0  0  0  0  0  0  0  0  0  0  0  0\n",
       " 0  0  0  0  0  0  0  0  0  0  0  0  0     0  0  0  0  0  0  0  0  0  0  0  0\n",
       " 0  0  0  0  0  0  0  0  0  0  0  0  0     0  0  0  0  0  0  0  0  0  0  0  0\n",
       " 0  0  0  0  0  0  0  0  0  0  0  0  0     0  0  0  0  0  0  0  0  0  0  0  0\n",
       " 0  0  0  0  0  0  0  0  0  0  0  0  0     0  0  0  0  0  0  0  0  0  0  0  0\n",
       "\n",
       "[:, :, 66] =\n",
       " 0  0  0  0  0  0  0  0  0  0  0  0  0  …  0  0  0  0  0  0  0  0  0  0  0  0\n",
       " 0  0  0  0  0  0  0  0  0  0  0  0  0     0  0  0  0  0  0  0  0  0  0  0  0\n",
       " 0  0  0  0  0  0  0  0  0  0  0  0  0     0  0  0  0  0  0  0  0  0  0  0  0\n",
       " 0  0  0  0  0  0  0  0  0  0  0  0  0     0  0  0  0  0  0  0  0  0  0  0  0\n",
       " 0  0  0  0  0  0  0  0  0  0  0  0  0     0  0  0  0  0  0  0  0  0  0  0  0\n",
       " 0  0  0  0  0  0  0  0  0  0  0  0  0  …  0  0  0  0  0  0  0  0  0  0  0  0\n",
       " 0  0  0  0  0  0  0  0  0  0  0  0  0     0  0  0  0  0  0  0  0  0  0  0  0\n",
       " 0  0  0  0  0  0  0  0  0  0  0  0  0     0  0  0  0  0  0  0  0  0  0  0  0\n",
       " 0  0  0  0  0  0  0  0  0  0  0  0  0     0  0  0  0  0  0  0  0  0  0  0  0\n",
       " 0  0  0  0  0  0  0  0  0  0  0  0  0     0  0  0  0  0  0  0  0  0  0  0  0\n",
       " 0  0  0  0  0  0  0  0  0  0  0  0  0  …  0  0  0  0  0  0  0  0  0  0  0  0\n",
       " 0  0  0  0  0  0  0  0  0  0  0  0  0     0  0  0  0  0  0  0  0  0  0  0  0\n",
       " 0  0  0  0  0  0  0  0  0  0  0  0  0     0  0  0  0  0  0  0  0  0  0  0  0\n",
       " ⋮              ⋮              ⋮        ⋱        ⋮              ⋮            \n",
       " 0  0  0  0  0  0  0  0  0  0  0  0  0     0  0  0  0  0  0  0  0  0  0  0  0\n",
       " 0  0  0  0  0  0  0  0  0  0  0  0  0     0  0  0  0  0  0  0  0  0  0  0  0\n",
       " 0  0  0  0  0  0  0  0  0  0  0  0  0  …  0  0  0  0  0  0  0  0  0  0  0  0\n",
       " 0  0  0  0  0  0  0  0  0  0  0  0  0     0  0  0  0  0  0  0  0  0  0  0  0\n",
       " 0  0  0  0  0  0  0  0  0  0  0  0  0     0  0  0  0  0  0  0  0  0  0  0  0\n",
       " 0  0  0  0  0  0  0  0  0  0  0  0  0     0  0  0  0  0  0  0  0  0  0  0  0\n",
       " 0  0  0  0  0  0  0  0  0  0  0  0  0     0  0  0  0  0  0  0  0  0  0  0  0\n",
       " 0  0  0  0  0  0  0  0  0  0  0  0  0  …  0  0  0  0  0  0  0  0  0  0  0  0\n",
       " 0  0  0  0  0  0  0  0  0  0  0  0  0     0  0  0  0  0  0  0  0  0  0  0  0\n",
       " 0  0  0  0  0  0  0  0  0  0  0  0  0     0  0  0  0  0  0  0  0  0  0  0  0\n",
       " 0  0  0  0  0  0  0  0  0  0  0  0  0     0  0  0  0  0  0  0  0  0  0  0  0\n",
       " 0  0  0  0  0  0  0  0  0  0  0  0  0     0  0  0  0  0  0  0  0  0  0  0  0\n",
       "\n",
       "[:, :, 67] =\n",
       " 0  0  0  0  0  0  0  0  0  0  0  0  0  …  0  0  0  0  0  0  0  0  0  0  0  0\n",
       " 0  0  0  0  0  0  0  0  0  0  0  0  0     0  0  0  0  0  0  0  0  0  0  0  0\n",
       " 0  0  0  0  0  0  0  0  0  0  0  0  0     0  0  0  0  0  0  0  0  0  0  0  0\n",
       " 0  0  0  0  0  0  0  0  0  0  0  0  0     0  0  0  0  0  0  0  0  0  0  0  0\n",
       " 0  0  0  0  0  0  0  0  0  0  0  0  0     0  0  0  0  0  0  0  0  0  0  0  0\n",
       " 0  0  0  0  0  0  0  0  0  0  0  0  0  …  0  0  0  0  0  0  0  0  0  0  0  0\n",
       " 0  0  0  0  0  0  0  0  0  0  0  0  0     0  0  0  0  0  0  0  0  0  0  0  0\n",
       " 0  0  0  0  0  0  0  0  0  0  0  0  0     0  0  0  0  0  0  0  0  0  0  0  0\n",
       " 0  0  0  0  0  0  0  0  0  0  0  0  0     0  0  0  0  0  0  0  0  0  0  0  0\n",
       " 0  0  0  0  0  0  0  0  0  0  0  0  0     0  0  0  0  0  0  0  0  0  0  0  0\n",
       " 0  0  0  0  0  0  0  0  0  0  0  0  0  …  0  0  0  0  0  0  0  0  0  0  0  0\n",
       " 0  0  0  0  0  0  0  0  0  0  0  0  0     0  0  0  0  0  0  0  0  0  0  0  0\n",
       " 0  0  0  0  0  0  0  0  0  0  0  0  0     0  0  0  0  0  0  0  0  0  0  0  0\n",
       " ⋮              ⋮              ⋮        ⋱        ⋮              ⋮            \n",
       " 0  0  0  0  0  0  0  0  0  0  0  0  0     0  0  0  0  0  0  0  0  0  0  0  0\n",
       " 0  0  0  0  0  0  0  0  0  0  0  0  0     0  0  0  0  0  0  0  0  0  0  0  0\n",
       " 0  0  0  0  0  0  0  0  0  0  0  0  0  …  0  0  0  0  0  0  0  0  0  0  0  0\n",
       " 0  0  0  0  0  0  0  0  0  0  0  0  0     0  0  0  0  0  0  0  0  0  0  0  0\n",
       " 0  0  0  0  0  0  0  0  0  0  0  0  0     0  0  0  0  0  0  0  0  0  0  0  0\n",
       " 0  0  0  0  0  0  0  0  0  0  0  0  0     0  0  0  0  0  0  0  0  0  0  0  0\n",
       " 0  0  0  0  0  0  0  0  0  0  0  0  0     0  0  0  0  0  0  0  0  0  0  0  0\n",
       " 0  0  0  0  0  0  0  0  0  0  0  0  0  …  0  0  0  0  0  0  0  0  0  0  0  0\n",
       " 0  0  0  0  0  0  0  0  0  0  0  0  0     0  0  0  0  0  0  0  0  0  0  0  0\n",
       " 0  0  0  0  0  0  0  0  0  0  0  0  0     0  0  0  0  0  0  0  0  0  0  0  0\n",
       " 0  0  0  0  0  0  0  0  0  0  0  0  0     0  0  0  0  0  0  0  0  0  0  0  0\n",
       " 0  0  0  0  0  0  0  0  0  0  0  0  0     0  0  0  0  0  0  0  0  0  0  0  0"
      ]
     },
     "execution_count": 21,
     "metadata": {},
     "output_type": "execute_result"
    }
   ],
   "source": [
    "Xs = (Batch(ss) for ss in zip(encode.(chunk(input, 50))...))\n",
    "Ys = (Batch(ss) for ss in zip(encode.(chunk(input[2:end], 50))...))\n",
    "Flux.rawbatch(first(Xs))"
   ]
  },
  {
   "cell_type": "markdown",
   "metadata": {},
   "source": [
    "## Training a Model"
   ]
  },
  {
   "cell_type": "code",
   "execution_count": 26,
   "metadata": {
    "collapsed": true
   },
   "outputs": [],
   "source": [
    "using Flux: unsqueeze"
   ]
  },
  {
   "cell_type": "markdown",
   "metadata": {},
   "source": [
    "In order to make our RNN more reusable, let's use a [model template](http://mikeinnes.github.io/Flux.jl/stable/models/templates.html) to define it. This is essentially just a Julia type containing some parameters."
   ]
  },
  {
   "cell_type": "code",
   "execution_count": null,
   "metadata": {
    "collapsed": false
   },
   "outputs": [],
   "source": [
    "init(dims) = randn(dims)/100\n",
    "\n",
    "@net type Recurrent\n",
    "  Wxy; Wyy; by\n",
    "  y\n",
    "  function (x)\n",
    "    y = tanh( x * Wxy .+ y{-1} * Wyy .+ by )\n",
    "  end\n",
    "end\n",
    "\n",
    "Recurrent(in, out) =\n",
    "  Recurrent(init((in, out)), init((out, out)), init((1, out)), init((1, out)))"
   ]
  },
  {
   "cell_type": "markdown",
   "metadata": {},
   "source": [
    "We've made a couple of tweaks compared to earlier; we'll use the first dimension of the input data as a batch dimension, which means reordering the matmuls. Otherwise, this behaves the same as before."
   ]
  },
  {
   "cell_type": "code",
   "execution_count": null,
   "metadata": {
    "collapsed": false
   },
   "outputs": [],
   "source": [
    "f = unroll1(Recurrent(N,N))\n",
    "onecold(f(rand(5,N)), alphabet)"
   ]
  },
  {
   "cell_type": "markdown",
   "metadata": {},
   "source": [
    "Here's the model; we'll chain together a few recurrent layers at once."
   ]
  },
  {
   "cell_type": "code",
   "execution_count": null,
   "metadata": {
    "collapsed": false
   },
   "outputs": [],
   "source": [
    "model = Chain(\n",
    "  Recurrent(N, 256),\n",
    "  Recurrent(256, 256),\n",
    "  Affine(256, N),\n",
    "  softmax)\n",
    "\n",
    "m = mxnet(unroll(model, 50))\n",
    "\n",
    "m(first(Xs))"
   ]
  },
  {
   "cell_type": "markdown",
   "metadata": {},
   "source": [
    "To help us understand what the model is doing, we'll print out the current loss on the 5th batch of data. `evalcb` is just a function we can call from inside the training process."
   ]
  },
  {
   "cell_type": "code",
   "execution_count": null,
   "metadata": {
    "collapsed": false
   },
   "outputs": [],
   "source": [
    "using Flux: logloss, tobatch\n",
    "eval = tobatch.(first.(drop.((Xs, Ys), 5)))\n",
    "evalcb = () -> @show logloss(m(eval[1]), eval[2])\n",
    "evalcb()"
   ]
  },
  {
   "cell_type": "markdown",
   "metadata": {},
   "source": [
    "Finally, the training!"
   ]
  },
  {
   "cell_type": "code",
   "execution_count": null,
   "metadata": {
    "collapsed": false,
    "scrolled": false
   },
   "outputs": [],
   "source": [
    "@time Flux.train!(m, zip(Xs, Ys), η = 0.001, loss = logloss, cb = [evalcb])"
   ]
  },
  {
   "cell_type": "markdown",
   "metadata": {},
   "source": [
    "Here's a sampling function. It's essentially the same loop we wrote above, but takes account of things like batching. Also, we use a weight sample rather than `onecold` to add some randomness to the output, and make things a bit more interesting."
   ]
  },
  {
   "cell_type": "code",
   "execution_count": 24,
   "metadata": {
    "collapsed": false
   },
   "outputs": [
    {
     "data": {
      "text/plain": [
       "sample (generic function with 2 methods)"
      ]
     },
     "execution_count": 24,
     "metadata": {},
     "output_type": "execute_result"
    }
   ],
   "source": [
    "using StatsBase: wsample\n",
    "function sample(model, n, temp = 1)\n",
    "  s = [rand(alphabet)]\n",
    "  m = unroll1(model)\n",
    "  for i = 1:n-1\n",
    "    push!(s, wsample(alphabet, softmax(m(unsqueeze(onehot(s[end], alphabet)))./temp)[1,:]))\n",
    "  end\n",
    "  return string(s...)\n",
    "end"
   ]
  },
  {
   "cell_type": "code",
   "execution_count": null,
   "metadata": {
    "collapsed": false
   },
   "outputs": [],
   "source": [
    "sample(model[1:end-1], 100)"
   ]
  },
  {
   "cell_type": "markdown",
   "metadata": {},
   "source": [
    "The `Recurrent` layer defined above is about the most naive possible, and for various reasons can struggle to store information. Here's the definition of an LSTM, which you can play around with in your model."
   ]
  },
  {
   "cell_type": "code",
   "execution_count": 28,
   "metadata": {
    "collapsed": false
   },
   "outputs": [
    {
     "name": "stderr",
     "output_type": "stream",
     "text": [
      "\u001b[1m\u001b[33mWARNING: \u001b[39m\u001b[22m\u001b[33mtanh{T <: Number}(x::AbstractArray{T}) is deprecated, use tanh.(x) instead.\u001b[39m\n",
      "Stacktrace:\n",
      " [1] \u001b[1mdepwarn\u001b[22m\u001b[22m\u001b[1m(\u001b[22m\u001b[22m::String, ::Symbol\u001b[1m)\u001b[22m\u001b[22m at \u001b[1m./deprecated.jl:70\u001b[22m\u001b[22m\n",
      " [2] \u001b[1mtanh\u001b[22m\u001b[22m\u001b[1m(\u001b[22m\u001b[22m::Array{Float64,2}\u001b[1m)\u001b[22m\u001b[22m at \u001b[1m./deprecated.jl:57\u001b[22m\u001b[22m\n",
      " [3] \u001b[1mmacro expansion\u001b[22m\u001b[22m at \u001b[1m/Users/mike/.julia/v0.6/DataFlow/src/interpreter.jl:135\u001b[22m\u001b[22m [inlined]\n",
      " [4] \u001b[1minterp\u001b[22m\u001b[22m\u001b[1m(\u001b[22m\u001b[22m::DataFlow.Interpreter.Context{DataFlow.Interpreter.##1#2{DataFlow.Interpreter.#iconst,DataFlow.Interpreter.##1#2{DataFlow.Interpreter.#iline,DataFlow.Interpreter.##1#2{DataFlow.Interpreter.#ilambda,DataFlow.Interpreter.##1#2{DataFlow.Interpreter.#iargs,DataFlow.Interpreter.##1#2{DataFlow.Interpreter.#ituple,Flux.#interp}}}}}}, ::Function, ::Array{Float64,2}, ::Vararg{Any,N} where N\u001b[1m)\u001b[22m\u001b[22m at \u001b[1m/Users/mike/.julia/v0.6/Flux/src/compiler/interp.jl:19\u001b[22m\u001b[22m\n",
      " [5] \u001b[1mituple\u001b[22m\u001b[22m\u001b[1m(\u001b[22m\u001b[22m::Function, ::DataFlow.Interpreter.Context{DataFlow.Interpreter.##1#2{DataFlow.Interpreter.#iconst,DataFlow.Interpreter.##1#2{DataFlow.Interpreter.#iline,DataFlow.Interpreter.##1#2{DataFlow.Interpreter.#ilambda,DataFlow.Interpreter.##1#2{DataFlow.Interpreter.#iargs,DataFlow.Interpreter.##1#2{DataFlow.Interpreter.#ituple,Flux.#interp}}}}}}, ::Function, ::Array{Float64,2}\u001b[1m)\u001b[22m\u001b[22m at \u001b[1m/Users/mike/.julia/v0.6/DataFlow/src/interpreter.jl:81\u001b[22m\u001b[22m\n",
      " [6] \u001b[1m(::DataFlow.Interpreter.##1#2{DataFlow.Interpreter.#ituple,Flux.#interp})\u001b[22m\u001b[22m\u001b[1m(\u001b[22m\u001b[22m::DataFlow.Interpreter.Context{DataFlow.Interpreter.##1#2{DataFlow.Interpreter.#iconst,DataFlow.Interpreter.##1#2{DataFlow.Interpreter.#iline,DataFlow.Interpreter.##1#2{DataFlow.Interpreter.#ilambda,DataFlow.Interpreter.##1#2{DataFlow.Interpreter.#iargs,DataFlow.Interpreter.##1#2{DataFlow.Interpreter.#ituple,Flux.#interp}}}}}}, ::Vararg{Any,N} where N\u001b[1m)\u001b[22m\u001b[22m at \u001b[1m/Users/mike/.julia/v0.6/DataFlow/src/interpreter.jl:13\u001b[22m\u001b[22m\n",
      " [7] \u001b[1miargs\u001b[22m\u001b[22m\u001b[1m(\u001b[22m\u001b[22m::Function, ::DataFlow.Interpreter.Context{DataFlow.Interpreter.##1#2{DataFlow.Interpreter.#iconst,DataFlow.Interpreter.##1#2{DataFlow.Interpreter.#iline,DataFlow.Interpreter.##1#2{DataFlow.Interpreter.#ilambda,DataFlow.Interpreter.##1#2{DataFlow.Interpreter.#iargs,DataFlow.Interpreter.##1#2{DataFlow.Interpreter.#ituple,Flux.#interp}}}}}}, ::Function, ::IVertex, ::Vararg{IVertex,N} where N\u001b[1m)\u001b[22m\u001b[22m at \u001b[1m/Users/mike/.julia/v0.6/DataFlow/src/interpreter.jl:72\u001b[22m\u001b[22m\n",
      " [8] \u001b[1m(::DataFlow.Interpreter.##1#2{DataFlow.Interpreter.#iargs,DataFlow.Interpreter.##1#2{DataFlow.Interpreter.#ituple,Flux.#interp}})\u001b[22m\u001b[22m\u001b[1m(\u001b[22m\u001b[22m::DataFlow.Interpreter.Context{DataFlow.Interpreter.##1#2{DataFlow.Interpreter.#iconst,DataFlow.Interpreter.##1#2{DataFlow.Interpreter.#iline,DataFlow.Interpreter.##1#2{DataFlow.Interpreter.#ilambda,DataFlow.Interpreter.##1#2{DataFlow.Interpreter.#iargs,DataFlow.Interpreter.##1#2{DataFlow.Interpreter.#ituple,Flux.#interp}}}}}}, ::Vararg{Any,N} where N\u001b[1m)\u001b[22m\u001b[22m at \u001b[1m/Users/mike/.julia/v0.6/DataFlow/src/interpreter.jl:13\u001b[22m\u001b[22m\n",
      " [9] \u001b[1milambda\u001b[22m\u001b[22m\u001b[1m(\u001b[22m\u001b[22m::Function, ::DataFlow.Interpreter.Context{DataFlow.Interpreter.##1#2{DataFlow.Interpreter.#iconst,DataFlow.Interpreter.##1#2{DataFlow.Interpreter.#iline,DataFlow.Interpreter.##1#2{DataFlow.Interpreter.#ilambda,DataFlow.Interpreter.##1#2{DataFlow.Interpreter.#iargs,DataFlow.Interpreter.##1#2{DataFlow.Interpreter.#ituple,Flux.#interp}}}}}}, ::Function, ::IVertex\u001b[1m)\u001b[22m\u001b[22m at \u001b[1m/Users/mike/.julia/v0.6/DataFlow/src/interpreter.jl:81\u001b[22m\u001b[22m\n",
      " [10] \u001b[1m(::DataFlow.Interpreter.##1#2{DataFlow.Interpreter.#ilambda,DataFlow.Interpreter.##1#2{DataFlow.Interpreter.#iargs,DataFlow.Interpreter.##1#2{DataFlow.Interpreter.#ituple,Flux.#interp}}})\u001b[22m\u001b[22m\u001b[1m(\u001b[22m\u001b[22m::DataFlow.Interpreter.Context{DataFlow.Interpreter.##1#2{DataFlow.Interpreter.#iconst,DataFlow.Interpreter.##1#2{DataFlow.Interpreter.#iline,DataFlow.Interpreter.##1#2{DataFlow.Interpreter.#ilambda,DataFlow.Interpreter.##1#2{DataFlow.Interpreter.#iargs,DataFlow.Interpreter.##1#2{DataFlow.Interpreter.#ituple,Flux.#interp}}}}}}, ::Vararg{Any,N} where N\u001b[1m)\u001b[22m\u001b[22m at \u001b[1m/Users/mike/.julia/v0.6/DataFlow/src/interpreter.jl:13\u001b[22m\u001b[22m\n",
      " [11] \u001b[1miline\u001b[22m\u001b[22m\u001b[1m(\u001b[22m\u001b[22m::Function, ::DataFlow.Interpreter.Context{DataFlow.Interpreter.##1#2{DataFlow.Interpreter.#iconst,DataFlow.Interpreter.##1#2{DataFlow.Interpreter.#iline,DataFlow.Interpreter.##1#2{DataFlow.Interpreter.#ilambda,DataFlow.Interpreter.##1#2{DataFlow.Interpreter.#iargs,DataFlow.Interpreter.##1#2{DataFlow.Interpreter.#ituple,Flux.#interp}}}}}}, ::Function, ::IVertex\u001b[1m)\u001b[22m\u001b[22m at \u001b[1m/Users/mike/.julia/v0.6/DataFlow/src/interpreter.jl:81\u001b[22m\u001b[22m\n",
      " [12] \u001b[1m(::DataFlow.Interpreter.##1#2{DataFlow.Interpreter.#iline,DataFlow.Interpreter.##1#2{DataFlow.Interpreter.#ilambda,DataFlow.Interpreter.##1#2{DataFlow.Interpreter.#iargs,DataFlow.Interpreter.##1#2{DataFlow.Interpreter.#ituple,Flux.#interp}}}})\u001b[22m\u001b[22m\u001b[1m(\u001b[22m\u001b[22m::DataFlow.Interpreter.Context{DataFlow.Interpreter.##1#2{DataFlow.Interpreter.#iconst,DataFlow.Interpreter.##1#2{DataFlow.Interpreter.#iline,DataFlow.Interpreter.##1#2{DataFlow.Interpreter.#ilambda,DataFlow.Interpreter.##1#2{DataFlow.Interpreter.#iargs,DataFlow.Interpreter.##1#2{DataFlow.Interpreter.#ituple,Flux.#interp}}}}}}, ::Vararg{Any,N} where N\u001b[1m)\u001b[22m\u001b[22m at \u001b[1m/Users/mike/.julia/v0.6/DataFlow/src/interpreter.jl:13\u001b[22m\u001b[22m\n",
      " [13] \u001b[1miconst\u001b[22m\u001b[22m\u001b[1m(\u001b[22m\u001b[22m::Function, ::DataFlow.Interpreter.Context{DataFlow.Interpreter.##1#2{DataFlow.Interpreter.#iconst,DataFlow.Interpreter.##1#2{DataFlow.Interpreter.#iline,DataFlow.Interpreter.##1#2{DataFlow.Interpreter.#ilambda,DataFlow.Interpreter.##1#2{DataFlow.Interpreter.#iargs,DataFlow.Interpreter.##1#2{DataFlow.Interpreter.#ituple,Flux.#interp}}}}}}, ::Function, ::IVertex\u001b[1m)\u001b[22m\u001b[22m at \u001b[1m/Users/mike/.julia/v0.6/DataFlow/src/interpreter.jl:81\u001b[22m\u001b[22m\n",
      " [14] \u001b[1m(::DataFlow.Interpreter.##1#2{DataFlow.Interpreter.#iconst,DataFlow.Interpreter.##1#2{DataFlow.Interpreter.#iline,DataFlow.Interpreter.##1#2{DataFlow.Interpreter.#ilambda,DataFlow.Interpreter.##1#2{DataFlow.Interpreter.#iargs,DataFlow.Interpreter.##1#2{DataFlow.Interpreter.#ituple,Flux.#interp}}}}})\u001b[22m\u001b[22m\u001b[1m(\u001b[22m\u001b[22m::DataFlow.Interpreter.Context{DataFlow.Interpreter.##1#2{DataFlow.Interpreter.#iconst,DataFlow.Interpreter.##1#2{DataFlow.Interpreter.#iline,DataFlow.Interpreter.##1#2{DataFlow.Interpreter.#ilambda,DataFlow.Interpreter.##1#2{DataFlow.Interpreter.#iargs,DataFlow.Interpreter.##1#2{DataFlow.Interpreter.#ituple,Flux.#interp}}}}}}, ::Vararg{Any,N} where N\u001b[1m)\u001b[22m\u001b[22m at \u001b[1m/Users/mike/.julia/v0.6/DataFlow/src/interpreter.jl:13\u001b[22m\u001b[22m\n",
      " [15] \u001b[1minterpv\u001b[22m\u001b[22m\u001b[1m(\u001b[22m\u001b[22m::DataFlow.Interpreter.Context{DataFlow.Interpreter.##1#2{DataFlow.Interpreter.#iconst,DataFlow.Interpreter.##1#2{DataFlow.Interpreter.#iline,DataFlow.Interpreter.##1#2{DataFlow.Interpreter.#ilambda,DataFlow.Interpreter.##1#2{DataFlow.Interpreter.#iargs,DataFlow.Interpreter.##1#2{DataFlow.Interpreter.#ituple,Flux.#interp}}}}}}, ::IVertex\u001b[1m)\u001b[22m\u001b[22m at \u001b[1m/Users/mike/.julia/v0.6/DataFlow/src/interpreter.jl:43\u001b[22m\u001b[22m\n",
      " [16] \u001b[1miline\u001b[22m\u001b[22m\u001b[1m(\u001b[22m\u001b[22m::Function, ::DataFlow.Interpreter.Context{DataFlow.Interpreter.##1#2{DataFlow.Interpreter.#iconst,DataFlow.Interpreter.##1#2{DataFlow.Interpreter.#iline,DataFlow.Interpreter.##1#2{DataFlow.Interpreter.#ilambda,DataFlow.Interpreter.##1#2{DataFlow.Interpreter.#iargs,DataFlow.Interpreter.##1#2{DataFlow.Interpreter.#ituple,Flux.#interp}}}}}}, ::DataFlow.Line, ::IVertex\u001b[1m)\u001b[22m\u001b[22m at \u001b[1m/Users/mike/.julia/v0.6/DataFlow/src/interpreter.jl:62\u001b[22m\u001b[22m\n",
      " [17] \u001b[1m(::DataFlow.Interpreter.##1#2{DataFlow.Interpreter.#iline,DataFlow.Interpreter.##1#2{DataFlow.Interpreter.#ilambda,DataFlow.Interpreter.##1#2{DataFlow.Interpreter.#iargs,DataFlow.Interpreter.##1#2{DataFlow.Interpreter.#ituple,Flux.#interp}}}})\u001b[22m\u001b[22m\u001b[1m(\u001b[22m\u001b[22m::DataFlow.Interpreter.Context{DataFlow.Interpreter.##1#2{DataFlow.Interpreter.#iconst,DataFlow.Interpreter.##1#2{DataFlow.Interpreter.#iline,DataFlow.Interpreter.##1#2{DataFlow.Interpreter.#ilambda,DataFlow.Interpreter.##1#2{DataFlow.Interpreter.#iargs,DataFlow.Interpreter.##1#2{DataFlow.Interpreter.#ituple,Flux.#interp}}}}}}, ::Vararg{Any,N} where N\u001b[1m)\u001b[22m\u001b[22m at \u001b[1m/Users/mike/.julia/v0.6/DataFlow/src/interpreter.jl:13\u001b[22m\u001b[22m\n",
      " [18] \u001b[1miconst\u001b[22m\u001b[22m\u001b[1m(\u001b[22m\u001b[22m::Function, ::DataFlow.Interpreter.Context{DataFlow.Interpreter.##1#2{DataFlow.Interpreter.#iconst,DataFlow.Interpreter.##1#2{DataFlow.Interpreter.#iline,DataFlow.Interpreter.##1#2{DataFlow.Interpreter.#ilambda,DataFlow.Interpreter.##1#2{DataFlow.Interpreter.#iargs,DataFlow.Interpreter.##1#2{DataFlow.Interpreter.#ituple,Flux.#interp}}}}}}, ::DataFlow.Line, ::IVertex\u001b[1m)\u001b[22m\u001b[22m at \u001b[1m/Users/mike/.julia/v0.6/DataFlow/src/interpreter.jl:81\u001b[22m\u001b[22m\n",
      " [19] \u001b[1m(::DataFlow.Interpreter.##1#2{DataFlow.Interpreter.#iconst,DataFlow.Interpreter.##1#2{DataFlow.Interpreter.#iline,DataFlow.Interpreter.##1#2{DataFlow.Interpreter.#ilambda,DataFlow.Interpreter.##1#2{DataFlow.Interpreter.#iargs,DataFlow.Interpreter.##1#2{DataFlow.Interpreter.#ituple,Flux.#interp}}}}})\u001b[22m\u001b[22m\u001b[1m(\u001b[22m\u001b[22m::DataFlow.Interpreter.Context{DataFlow.Interpreter.##1#2{DataFlow.Interpreter.#iconst,DataFlow.Interpreter.##1#2{DataFlow.Interpreter.#iline,DataFlow.Interpreter.##1#2{DataFlow.Interpreter.#ilambda,DataFlow.Interpreter.##1#2{DataFlow.Interpreter.#iargs,DataFlow.Interpreter.##1#2{DataFlow.Interpreter.#ituple,Flux.#interp}}}}}}, ::Vararg{Any,N} where N\u001b[1m)\u001b[22m\u001b[22m at \u001b[1m/Users/mike/.julia/v0.6/DataFlow/src/interpreter.jl:13\u001b[22m\u001b[22m\n",
      " [20] \u001b[1minterpv\u001b[22m\u001b[22m\u001b[1m(\u001b[22m\u001b[22m::DataFlow.Interpreter.Context{DataFlow.Interpreter.##1#2{DataFlow.Interpreter.#iconst,DataFlow.Interpreter.##1#2{DataFlow.Interpreter.#iline,DataFlow.Interpreter.##1#2{DataFlow.Interpreter.#ilambda,DataFlow.Interpreter.##1#2{DataFlow.Interpreter.#iargs,DataFlow.Interpreter.##1#2{DataFlow.Interpreter.#ituple,Flux.#interp}}}}}}, ::IVertex\u001b[1m)\u001b[22m\u001b[22m at \u001b[1m/Users/mike/.julia/v0.6/DataFlow/src/interpreter.jl:43\u001b[22m\u001b[22m\n",
      " [21] \u001b[1mmap\u001b[22m\u001b[22m\u001b[1m(\u001b[22m\u001b[22m::DataFlow.Interpreter.##4#5{DataFlow.Interpreter.Context{DataFlow.Interpreter.##1#2{DataFlow.Interpreter.#iconst,DataFlow.Interpreter.##1#2{DataFlow.Interpreter.#iline,DataFlow.Interpreter.##1#2{DataFlow.Interpreter.#ilambda,DataFlow.Interpreter.##1#2{DataFlow.Interpreter.#iargs,DataFlow.Interpreter.##1#2{DataFlow.Interpreter.#ituple,Flux.#interp}}}}}}}, ::Tuple{IVertex,IVertex,IVertex}\u001b[1m)\u001b[22m\u001b[22m at \u001b[1m./tuple.jl:160\u001b[22m\u001b[22m\n",
      " [22] \u001b[1miargs\u001b[22m\u001b[22m\u001b[1m(\u001b[22m\u001b[22m::Function, ::DataFlow.Interpreter.Context{DataFlow.Interpreter.##1#2{DataFlow.Interpreter.#iconst,DataFlow.Interpreter.##1#2{DataFlow.Interpreter.#iline,DataFlow.Interpreter.##1#2{DataFlow.Interpreter.#ilambda,DataFlow.Interpreter.##1#2{DataFlow.Interpreter.#iargs,DataFlow.Interpreter.##1#2{DataFlow.Interpreter.#ituple,Flux.#interp}}}}}}, ::Function, ::IVertex, ::Vararg{IVertex,N} where N\u001b[1m)\u001b[22m\u001b[22m at \u001b[1m/Users/mike/.julia/v0.6/DataFlow/src/interpreter.jl:72\u001b[22m\u001b[22m\n",
      " [23] \u001b[1m(::DataFlow.Interpreter.##1#2{DataFlow.Interpreter.#iargs,DataFlow.Interpreter.##1#2{DataFlow.Interpreter.#ituple,Flux.#interp}})\u001b[22m\u001b[22m\u001b[1m(\u001b[22m\u001b[22m::DataFlow.Interpreter.Context{DataFlow.Interpreter.##1#2{DataFlow.Interpreter.#iconst,DataFlow.Interpreter.##1#2{DataFlow.Interpreter.#iline,DataFlow.Interpreter.##1#2{DataFlow.Interpreter.#ilambda,DataFlow.Interpreter.##1#2{DataFlow.Interpreter.#iargs,DataFlow.Interpreter.##1#2{DataFlow.Interpreter.#ituple,Flux.#interp}}}}}}, ::Vararg{Any,N} where N\u001b[1m)\u001b[22m\u001b[22m at \u001b[1m/Users/mike/.julia/v0.6/DataFlow/src/interpreter.jl:13\u001b[22m\u001b[22m\n",
      " [24] \u001b[1milambda\u001b[22m\u001b[22m\u001b[1m(\u001b[22m\u001b[22m::Function, ::DataFlow.Interpreter.Context{DataFlow.Interpreter.##1#2{DataFlow.Interpreter.#iconst,DataFlow.Interpreter.##1#2{DataFlow.Interpreter.#iline,DataFlow.Interpreter.##1#2{DataFlow.Interpreter.#ilambda,DataFlow.Interpreter.##1#2{DataFlow.Interpreter.#iargs,DataFlow.Interpreter.##1#2{DataFlow.Interpreter.#ituple,Flux.#interp}}}}}}, ::Function, ::IVertex, ::IVertex, ::Vararg{IVertex,N} where N\u001b[1m)\u001b[22m\u001b[22m at \u001b[1m/Users/mike/.julia/v0.6/DataFlow/src/interpreter.jl:81\u001b[22m\u001b[22m\n",
      " [25] \u001b[1m(::DataFlow.Interpreter.##1#2{DataFlow.Interpreter.#ilambda,DataFlow.Interpreter.##1#2{DataFlow.Interpreter.#iargs,DataFlow.Interpreter.##1#2{DataFlow.Interpreter.#ituple,Flux.#interp}}})\u001b[22m\u001b[22m\u001b[1m(\u001b[22m\u001b[22m::DataFlow.Interpreter.Context{DataFlow.Interpreter.##1#2{DataFlow.Interpreter.#iconst,DataFlow.Interpreter.##1#2{DataFlow.Interpreter.#iline,DataFlow.Interpreter.##1#2{DataFlow.Interpreter.#ilambda,DataFlow.Interpreter.##1#2{DataFlow.Interpreter.#iargs,DataFlow.Interpreter.##1#2{DataFlow.Interpreter.#ituple,Flux.#interp}}}}}}, ::Vararg{Any,N} where N\u001b[1m)\u001b[22m\u001b[22m at \u001b[1m/Users/mike/.julia/v0.6/DataFlow/src/interpreter.jl:13\u001b[22m\u001b[22m\n",
      " [26] \u001b[1miline\u001b[22m\u001b[22m\u001b[1m(\u001b[22m\u001b[22m::Function, ::DataFlow.Interpreter.Context{DataFlow.Interpreter.##1#2{DataFlow.Interpreter.#iconst,DataFlow.Interpreter.##1#2{DataFlow.Interpreter.#iline,DataFlow.Interpreter.##1#2{DataFlow.Interpreter.#ilambda,DataFlow.Interpreter.##1#2{DataFlow.Interpreter.#iargs,DataFlow.Interpreter.##1#2{DataFlow.Interpreter.#ituple,Flux.#interp}}}}}}, ::Function, ::IVertex, ::IVertex, ::Vararg{IVertex,N} where N\u001b[1m)\u001b[22m\u001b[22m at \u001b[1m/Users/mike/.julia/v0.6/DataFlow/src/interpreter.jl:81\u001b[22m\u001b[22m\n",
      " [27] \u001b[1m(::DataFlow.Interpreter.##1#2{DataFlow.Interpreter.#iline,DataFlow.Interpreter.##1#2{DataFlow.Interpreter.#ilambda,DataFlow.Interpreter.##1#2{DataFlow.Interpreter.#iargs,DataFlow.Interpreter.##1#2{DataFlow.Interpreter.#ituple,Flux.#interp}}}})\u001b[22m\u001b[22m\u001b[1m(\u001b[22m\u001b[22m::DataFlow.Interpreter.Context{DataFlow.Interpreter.##1#2{DataFlow.Interpreter.#iconst,DataFlow.Interpreter.##1#2{DataFlow.Interpreter.#iline,DataFlow.Interpreter.##1#2{DataFlow.Interpreter.#ilambda,DataFlow.Interpreter.##1#2{DataFlow.Interpreter.#iargs,DataFlow.Interpreter.##1#2{DataFlow.Interpreter.#ituple,Flux.#interp}}}}}}, ::Vararg{Any,N} where N\u001b[1m)\u001b[22m\u001b[22m at \u001b[1m/Users/mike/.julia/v0.6/DataFlow/src/interpreter.jl:13\u001b[22m\u001b[22m\n",
      " [28] \u001b[1miconst\u001b[22m\u001b[22m\u001b[1m(\u001b[22m\u001b[22m::Function, ::DataFlow.Interpreter.Context{DataFlow.Interpreter.##1#2{DataFlow.Interpreter.#iconst,DataFlow.Interpreter.##1#2{DataFlow.Interpreter.#iline,DataFlow.Interpreter.##1#2{DataFlow.Interpreter.#ilambda,DataFlow.Interpreter.##1#2{DataFlow.Interpreter.#iargs,DataFlow.Interpreter.##1#2{DataFlow.Interpreter.#ituple,Flux.#interp}}}}}}, ::Function, ::IVertex, ::IVertex, ::Vararg{IVertex,N} where N\u001b[1m)\u001b[22m\u001b[22m at \u001b[1m/Users/mike/.julia/v0.6/DataFlow/src/interpreter.jl:81\u001b[22m\u001b[22m\n",
      " [29] \u001b[1m(::DataFlow.Interpreter.##1#2{DataFlow.Interpreter.#iconst,DataFlow.Interpreter.##1#2{DataFlow.Interpreter.#iline,DataFlow.Interpreter.##1#2{DataFlow.Interpreter.#ilambda,DataFlow.Interpreter.##1#2{DataFlow.Interpreter.#iargs,DataFlow.Interpreter.##1#2{DataFlow.Interpreter.#ituple,Flux.#interp}}}}})\u001b[22m\u001b[22m\u001b[1m(\u001b[22m\u001b[22m::DataFlow.Interpreter.Context{DataFlow.Interpreter.##1#2{DataFlow.Interpreter.#iconst,DataFlow.Interpreter.##1#2{DataFlow.Interpreter.#iline,DataFlow.Interpreter.##1#2{DataFlow.Interpreter.#ilambda,DataFlow.Interpreter.##1#2{DataFlow.Interpreter.#iargs,DataFlow.Interpreter.##1#2{DataFlow.Interpreter.#ituple,Flux.#interp}}}}}}, ::Vararg{Any,N} where N\u001b[1m)\u001b[22m\u001b[22m at \u001b[1m/Users/mike/.julia/v0.6/DataFlow/src/interpreter.jl:13\u001b[22m\u001b[22m\n",
      " [30] \u001b[1minterpv\u001b[22m\u001b[22m\u001b[1m(\u001b[22m\u001b[22m::DataFlow.Interpreter.Context{DataFlow.Interpreter.##1#2{DataFlow.Interpreter.#iconst,DataFlow.Interpreter.##1#2{DataFlow.Interpreter.#iline,DataFlow.Interpreter.##1#2{DataFlow.Interpreter.#ilambda,DataFlow.Interpreter.##1#2{DataFlow.Interpreter.#iargs,DataFlow.Interpreter.##1#2{DataFlow.Interpreter.#ituple,Flux.#interp}}}}}}, ::IVertex\u001b[1m)\u001b[22m\u001b[22m at \u001b[1m/Users/mike/.julia/v0.6/DataFlow/src/interpreter.jl:43\u001b[22m\u001b[22m\n",
      " [31] \u001b[1mmap\u001b[22m\u001b[22m\u001b[1m(\u001b[22m\u001b[22m::DataFlow.Interpreter.##4#5{DataFlow.Interpreter.Context{DataFlow.Interpreter.##1#2{DataFlow.Interpreter.#iconst,DataFlow.Interpreter.##1#2{DataFlow.Interpreter.#iline,DataFlow.Interpreter.##1#2{DataFlow.Interpreter.#ilambda,DataFlow.Interpreter.##1#2{DataFlow.Interpreter.#iargs,DataFlow.Interpreter.##1#2{DataFlow.Interpreter.#ituple,Flux.#interp}}}}}}}, ::Tuple{IVertex,IVertex,IVertex}\u001b[1m)\u001b[22m\u001b[22m at \u001b[1m./tuple.jl:160\u001b[22m\u001b[22m\n",
      " [32] \u001b[1miargs\u001b[22m\u001b[22m\u001b[1m(\u001b[22m\u001b[22m::Function, ::DataFlow.Interpreter.Context{DataFlow.Interpreter.##1#2{DataFlow.Interpreter.#iconst,DataFlow.Interpreter.##1#2{DataFlow.Interpreter.#iline,DataFlow.Interpreter.##1#2{DataFlow.Interpreter.#ilambda,DataFlow.Interpreter.##1#2{DataFlow.Interpreter.#iargs,DataFlow.Interpreter.##1#2{DataFlow.Interpreter.#ituple,Flux.#interp}}}}}}, ::Function, ::IVertex, ::Vararg{IVertex,N} where N\u001b[1m)\u001b[22m\u001b[22m at \u001b[1m/Users/mike/.julia/v0.6/DataFlow/src/interpreter.jl:72\u001b[22m\u001b[22m\n",
      " [33] \u001b[1m(::DataFlow.Interpreter.##1#2{DataFlow.Interpreter.#iargs,DataFlow.Interpreter.##1#2{DataFlow.Interpreter.#ituple,Flux.#interp}})\u001b[22m\u001b[22m\u001b[1m(\u001b[22m\u001b[22m::DataFlow.Interpreter.Context{DataFlow.Interpreter.##1#2{DataFlow.Interpreter.#iconst,DataFlow.Interpreter.##1#2{DataFlow.Interpreter.#iline,DataFlow.Interpreter.##1#2{DataFlow.Interpreter.#ilambda,DataFlow.Interpreter.##1#2{DataFlow.Interpreter.#iargs,DataFlow.Interpreter.##1#2{DataFlow.Interpreter.#ituple,Flux.#interp}}}}}}, ::Vararg{Any,N} where N\u001b[1m)\u001b[22m\u001b[22m at \u001b[1m/Users/mike/.julia/v0.6/DataFlow/src/interpreter.jl:13\u001b[22m\u001b[22m\n",
      " [34] \u001b[1milambda\u001b[22m\u001b[22m\u001b[1m(\u001b[22m\u001b[22m::Function, ::DataFlow.Interpreter.Context{DataFlow.Interpreter.##1#2{DataFlow.Interpreter.#iconst,DataFlow.Interpreter.##1#2{DataFlow.Interpreter.#iline,DataFlow.Interpreter.##1#2{DataFlow.Interpreter.#ilambda,DataFlow.Interpreter.##1#2{DataFlow.Interpreter.#iargs,DataFlow.Interpreter.##1#2{DataFlow.Interpreter.#ituple,Flux.#interp}}}}}}, ::Function, ::IVertex, ::IVertex, ::Vararg{IVertex,N} where N\u001b[1m)\u001b[22m\u001b[22m at \u001b[1m/Users/mike/.julia/v0.6/DataFlow/src/interpreter.jl:81\u001b[22m\u001b[22m\n",
      " [35] \u001b[1m(::DataFlow.Interpreter.##1#2{DataFlow.Interpreter.#ilambda,DataFlow.Interpreter.##1#2{DataFlow.Interpreter.#iargs,DataFlow.Interpreter.##1#2{DataFlow.Interpreter.#ituple,Flux.#interp}}})\u001b[22m\u001b[22m\u001b[1m(\u001b[22m\u001b[22m::DataFlow.Interpreter.Context{DataFlow.Interpreter.##1#2{DataFlow.Interpreter.#iconst,DataFlow.Interpreter.##1#2{DataFlow.Interpreter.#iline,DataFlow.Interpreter.##1#2{DataFlow.Interpreter.#ilambda,DataFlow.Interpreter.##1#2{DataFlow.Interpreter.#iargs,DataFlow.Interpreter.##1#2{DataFlow.Interpreter.#ituple,Flux.#interp}}}}}}, ::Vararg{Any,N} where N\u001b[1m)\u001b[22m\u001b[22m at \u001b[1m/Users/mike/.julia/v0.6/DataFlow/src/interpreter.jl:13\u001b[22m\u001b[22m\n",
      " [36] \u001b[1miline\u001b[22m\u001b[22m\u001b[1m(\u001b[22m\u001b[22m::Function, ::DataFlow.Interpreter.Context{DataFlow.Interpreter.##1#2{DataFlow.Interpreter.#iconst,DataFlow.Interpreter.##1#2{DataFlow.Interpreter.#iline,DataFlow.Interpreter.##1#2{DataFlow.Interpreter.#ilambda,DataFlow.Interpreter.##1#2{DataFlow.Interpreter.#iargs,DataFlow.Interpreter.##1#2{DataFlow.Interpreter.#ituple,Flux.#interp}}}}}}, ::Function, ::IVertex, ::IVertex, ::Vararg{IVertex,N} where N\u001b[1m)\u001b[22m\u001b[22m at \u001b[1m/Users/mike/.julia/v0.6/DataFlow/src/interpreter.jl:81\u001b[22m\u001b[22m\n",
      " [37] \u001b[1m(::DataFlow.Interpreter.##1#2{DataFlow.Interpreter.#iline,DataFlow.Interpreter.##1#2{DataFlow.Interpreter.#ilambda,DataFlow.Interpreter.##1#2{DataFlow.Interpreter.#iargs,DataFlow.Interpreter.##1#2{DataFlow.Interpreter.#ituple,Flux.#interp}}}})\u001b[22m\u001b[22m\u001b[1m(\u001b[22m\u001b[22m::DataFlow.Interpreter.Context{DataFlow.Interpreter.##1#2{DataFlow.Interpreter.#iconst,DataFlow.Interpreter.##1#2{DataFlow.Interpreter.#iline,DataFlow.Interpreter.##1#2{DataFlow.Interpreter.#ilambda,DataFlow.Interpreter.##1#2{DataFlow.Interpreter.#iargs,DataFlow.Interpreter.##1#2{DataFlow.Interpreter.#ituple,Flux.#interp}}}}}}, ::Vararg{Any,N} where N\u001b[1m)\u001b[22m\u001b[22m at \u001b[1m/Users/mike/.julia/v0.6/DataFlow/src/interpreter.jl:13\u001b[22m\u001b[22m\n",
      " [38] \u001b[1miconst\u001b[22m\u001b[22m\u001b[1m(\u001b[22m\u001b[22m::Function, ::DataFlow.Interpreter.Context{DataFlow.Interpreter.##1#2{DataFlow.Interpreter.#iconst,DataFlow.Interpreter.##1#2{DataFlow.Interpreter.#iline,DataFlow.Interpreter.##1#2{DataFlow.Interpreter.#ilambda,DataFlow.Interpreter.##1#2{DataFlow.Interpreter.#iargs,DataFlow.Interpreter.##1#2{DataFlow.Interpreter.#ituple,Flux.#interp}}}}}}, ::Function, ::IVertex, ::IVertex, ::Vararg{IVertex,N} where N\u001b[1m)\u001b[22m\u001b[22m at \u001b[1m/Users/mike/.julia/v0.6/DataFlow/src/interpreter.jl:81\u001b[22m\u001b[22m\n",
      " [39] \u001b[1m(::DataFlow.Interpreter.##1#2{DataFlow.Interpreter.#iconst,DataFlow.Interpreter.##1#2{DataFlow.Interpreter.#iline,DataFlow.Interpreter.##1#2{DataFlow.Interpreter.#ilambda,DataFlow.Interpreter.##1#2{DataFlow.Interpreter.#iargs,DataFlow.Interpreter.##1#2{DataFlow.Interpreter.#ituple,Flux.#interp}}}}})\u001b[22m\u001b[22m\u001b[1m(\u001b[22m\u001b[22m::DataFlow.Interpreter.Context{DataFlow.Interpreter.##1#2{DataFlow.Interpreter.#iconst,DataFlow.Interpreter.##1#2{DataFlow.Interpreter.#iline,DataFlow.Interpreter.##1#2{DataFlow.Interpreter.#ilambda,DataFlow.Interpreter.##1#2{DataFlow.Interpreter.#iargs,DataFlow.Interpreter.##1#2{DataFlow.Interpreter.#ituple,Flux.#interp}}}}}}, ::Vararg{Any,N} where N\u001b[1m)\u001b[22m\u001b[22m at \u001b[1m/Users/mike/.julia/v0.6/DataFlow/src/interpreter.jl:13\u001b[22m\u001b[22m\n",
      " [40] \u001b[1minterpv\u001b[22m\u001b[22m\u001b[1m(\u001b[22m\u001b[22m::DataFlow.Interpreter.Context{DataFlow.Interpreter.##1#2{DataFlow.Interpreter.#iconst,DataFlow.Interpreter.##1#2{DataFlow.Interpreter.#iline,DataFlow.Interpreter.##1#2{DataFlow.Interpreter.#ilambda,DataFlow.Interpreter.##1#2{DataFlow.Interpreter.#iargs,DataFlow.Interpreter.##1#2{DataFlow.Interpreter.#ituple,Flux.#interp}}}}}}, ::IVertex\u001b[1m)\u001b[22m\u001b[22m at \u001b[1m/Users/mike/.julia/v0.6/DataFlow/src/interpreter.jl:43\u001b[22m\u001b[22m\n",
      " [41] \u001b[1miline\u001b[22m\u001b[22m\u001b[1m(\u001b[22m\u001b[22m::Function, ::DataFlow.Interpreter.Context{DataFlow.Interpreter.##1#2{DataFlow.Interpreter.#iconst,DataFlow.Interpreter.##1#2{DataFlow.Interpreter.#iline,DataFlow.Interpreter.##1#2{DataFlow.Interpreter.#ilambda,DataFlow.Interpreter.##1#2{DataFlow.Interpreter.#iargs,DataFlow.Interpreter.##1#2{DataFlow.Interpreter.#ituple,Flux.#interp}}}}}}, ::DataFlow.Line, ::IVertex\u001b[1m)\u001b[22m\u001b[22m at \u001b[1m/Users/mike/.julia/v0.6/DataFlow/src/interpreter.jl:62\u001b[22m\u001b[22m\n",
      " [42] \u001b[1m(::DataFlow.Interpreter.##1#2{DataFlow.Interpreter.#iline,DataFlow.Interpreter.##1#2{DataFlow.Interpreter.#ilambda,DataFlow.Interpreter.##1#2{DataFlow.Interpreter.#iargs,DataFlow.Interpreter.##1#2{DataFlow.Interpreter.#ituple,Flux.#interp}}}})\u001b[22m\u001b[22m\u001b[1m(\u001b[22m\u001b[22m::DataFlow.Interpreter.Context{DataFlow.Interpreter.##1#2{DataFlow.Interpreter.#iconst,DataFlow.Interpreter.##1#2{DataFlow.Interpreter.#iline,DataFlow.Interpreter.##1#2{DataFlow.Interpreter.#ilambda,DataFlow.Interpreter.##1#2{DataFlow.Interpreter.#iargs,DataFlow.Interpreter.##1#2{DataFlow.Interpreter.#ituple,Flux.#interp}}}}}}, ::Vararg{Any,N} where N\u001b[1m)\u001b[22m\u001b[22m at \u001b[1m/Users/mike/.julia/v0.6/DataFlow/src/interpreter.jl:13\u001b[22m\u001b[22m\n",
      " [43] \u001b[1miconst\u001b[22m\u001b[22m\u001b[1m(\u001b[22m\u001b[22m::Function, ::DataFlow.Interpreter.Context{DataFlow.Interpreter.##1#2{DataFlow.Interpreter.#iconst,DataFlow.Interpreter.##1#2{DataFlow.Interpreter.#iline,DataFlow.Interpreter.##1#2{DataFlow.Interpreter.#ilambda,DataFlow.Interpreter.##1#2{DataFlow.Interpreter.#iargs,DataFlow.Interpreter.##1#2{DataFlow.Interpreter.#ituple,Flux.#interp}}}}}}, ::DataFlow.Line, ::IVertex\u001b[1m)\u001b[22m\u001b[22m at \u001b[1m/Users/mike/.julia/v0.6/DataFlow/src/interpreter.jl:81\u001b[22m\u001b[22m\n",
      " [44] \u001b[1m(::DataFlow.Interpreter.##1#2{DataFlow.Interpreter.#iconst,DataFlow.Interpreter.##1#2{DataFlow.Interpreter.#iline,DataFlow.Interpreter.##1#2{DataFlow.Interpreter.#ilambda,DataFlow.Interpreter.##1#2{DataFlow.Interpreter.#iargs,DataFlow.Interpreter.##1#2{DataFlow.Interpreter.#ituple,Flux.#interp}}}}})\u001b[22m\u001b[22m\u001b[1m(\u001b[22m\u001b[22m::DataFlow.Interpreter.Context{DataFlow.Interpreter.##1#2{DataFlow.Interpreter.#iconst,DataFlow.Interpreter.##1#2{DataFlow.Interpreter.#iline,DataFlow.Interpreter.##1#2{DataFlow.Interpreter.#ilambda,DataFlow.Interpreter.##1#2{DataFlow.Interpreter.#iargs,DataFlow.Interpreter.##1#2{DataFlow.Interpreter.#ituple,Flux.#interp}}}}}}, ::Vararg{Any,N} where N\u001b[1m)\u001b[22m\u001b[22m at \u001b[1m/Users/mike/.julia/v0.6/DataFlow/src/interpreter.jl:13\u001b[22m\u001b[22m\n",
      " [45] \u001b[1minterpv\u001b[22m\u001b[22m\u001b[1m(\u001b[22m\u001b[22m::DataFlow.Interpreter.Context{DataFlow.Interpreter.##1#2{DataFlow.Interpreter.#iconst,DataFlow.Interpreter.##1#2{DataFlow.Interpreter.#iline,DataFlow.Interpreter.##1#2{DataFlow.Interpreter.#ilambda,DataFlow.Interpreter.##1#2{DataFlow.Interpreter.#iargs,DataFlow.Interpreter.##1#2{DataFlow.Interpreter.#ituple,Flux.#interp}}}}}}, ::IVertex\u001b[1m)\u001b[22m\u001b[22m at \u001b[1m/Users/mike/.julia/v0.6/DataFlow/src/interpreter.jl:43\u001b[22m\u001b[22m\n",
      " [46] \u001b[1mmap\u001b[22m\u001b[22m\u001b[1m(\u001b[22m\u001b[22m::DataFlow.Interpreter.##4#5{DataFlow.Interpreter.Context{DataFlow.Interpreter.##1#2{DataFlow.Interpreter.#iconst,DataFlow.Interpreter.##1#2{DataFlow.Interpreter.#iline,DataFlow.Interpreter.##1#2{DataFlow.Interpreter.#ilambda,DataFlow.Interpreter.##1#2{DataFlow.Interpreter.#iargs,DataFlow.Interpreter.##1#2{DataFlow.Interpreter.#ituple,Flux.#interp}}}}}}}, ::Tuple{IVertex}\u001b[1m)\u001b[22m\u001b[22m at \u001b[1m./tuple.jl:158\u001b[22m\u001b[22m\n",
      " [47] \u001b[1miargs\u001b[22m\u001b[22m\u001b[1m(\u001b[22m\u001b[22m::Function, ::DataFlow.Interpreter.Context{DataFlow.Interpreter.##1#2{DataFlow.Interpreter.#iconst,DataFlow.Interpreter.##1#2{DataFlow.Interpreter.#iline,DataFlow.Interpreter.##1#2{DataFlow.Interpreter.#ilambda,DataFlow.Interpreter.##1#2{DataFlow.Interpreter.#iargs,DataFlow.Interpreter.##1#2{DataFlow.Interpreter.#ituple,Flux.#interp}}}}}}, ::Function, ::IVertex, ::Vararg{IVertex,N} where N\u001b[1m)\u001b[22m\u001b[22m at \u001b[1m/Users/mike/.julia/v0.6/DataFlow/src/interpreter.jl:72\u001b[22m\u001b[22m\n",
      " [48] \u001b[1m(::DataFlow.Interpreter.##1#2{DataFlow.Interpreter.#iargs,DataFlow.Interpreter.##1#2{DataFlow.Interpreter.#ituple,Flux.#interp}})\u001b[22m\u001b[22m\u001b[1m(\u001b[22m\u001b[22m::DataFlow.Interpreter.Context{DataFlow.Interpreter.##1#2{DataFlow.Interpreter.#iconst,DataFlow.Interpreter.##1#2{DataFlow.Interpreter.#iline,DataFlow.Interpreter.##1#2{DataFlow.Interpreter.#ilambda,DataFlow.Interpreter.##1#2{DataFlow.Interpreter.#iargs,DataFlow.Interpreter.##1#2{DataFlow.Interpreter.#ituple,Flux.#interp}}}}}}, ::Vararg{Any,N} where N\u001b[1m)\u001b[22m\u001b[22m at \u001b[1m/Users/mike/.julia/v0.6/DataFlow/src/interpreter.jl:13\u001b[22m\u001b[22m\n",
      " [49] \u001b[1milambda\u001b[22m\u001b[22m\u001b[1m(\u001b[22m\u001b[22m::Function, ::DataFlow.Interpreter.Context{DataFlow.Interpreter.##1#2{DataFlow.Interpreter.#iconst,DataFlow.Interpreter.##1#2{DataFlow.Interpreter.#iline,DataFlow.Interpreter.##1#2{DataFlow.Interpreter.#ilambda,DataFlow.Interpreter.##1#2{DataFlow.Interpreter.#iargs,DataFlow.Interpreter.##1#2{DataFlow.Interpreter.#ituple,Flux.#interp}}}}}}, ::Function, ::IVertex\u001b[1m)\u001b[22m\u001b[22m at \u001b[1m/Users/mike/.julia/v0.6/DataFlow/src/interpreter.jl:81\u001b[22m\u001b[22m\n",
      " [50] \u001b[1m(::DataFlow.Interpreter.##1#2{DataFlow.Interpreter.#ilambda,DataFlow.Interpreter.##1#2{DataFlow.Interpreter.#iargs,DataFlow.Interpreter.##1#2{DataFlow.Interpreter.#ituple,Flux.#interp}}})\u001b[22m\u001b[22m\u001b[1m(\u001b[22m\u001b[22m::DataFlow.Interpreter.Context{DataFlow.Interpreter.##1#2{DataFlow.Interpreter.#iconst,DataFlow.Interpreter.##1#2{DataFlow.Interpreter.#iline,DataFlow.Interpreter.##1#2{DataFlow.Interpreter.#ilambda,DataFlow.Interpreter.##1#2{DataFlow.Interpreter.#iargs,DataFlow.Interpreter.##1#2{DataFlow.Interpreter.#ituple,Flux.#interp}}}}}}, ::Vararg{Any,N} where N\u001b[1m)\u001b[22m\u001b[22m at \u001b[1m/Users/mike/.julia/v0.6/DataFlow/src/interpreter.jl:13\u001b[22m\u001b[22m\n",
      " [51] \u001b[1miline\u001b[22m\u001b[22m\u001b[1m(\u001b[22m\u001b[22m::Function, ::DataFlow.Interpreter.Context{DataFlow.Interpreter.##1#2{DataFlow.Interpreter.#iconst,DataFlow.Interpreter.##1#2{DataFlow.Interpreter.#iline,DataFlow.Interpreter.##1#2{DataFlow.Interpreter.#ilambda,DataFlow.Interpreter.##1#2{DataFlow.Interpreter.#iargs,DataFlow.Interpreter.##1#2{DataFlow.Interpreter.#ituple,Flux.#interp}}}}}}, ::Function, ::IVertex\u001b[1m)\u001b[22m\u001b[22m at \u001b[1m/Users/mike/.julia/v0.6/DataFlow/src/interpreter.jl:81\u001b[22m\u001b[22m\n",
      " [52] \u001b[1m(::DataFlow.Interpreter.##1#2{DataFlow.Interpreter.#iline,DataFlow.Interpreter.##1#2{DataFlow.Interpreter.#ilambda,DataFlow.Interpreter.##1#2{DataFlow.Interpreter.#iargs,DataFlow.Interpreter.##1#2{DataFlow.Interpreter.#ituple,Flux.#interp}}}})\u001b[22m\u001b[22m\u001b[1m(\u001b[22m\u001b[22m::DataFlow.Interpreter.Context{DataFlow.Interpreter.##1#2{DataFlow.Interpreter.#iconst,DataFlow.Interpreter.##1#2{DataFlow.Interpreter.#iline,DataFlow.Interpreter.##1#2{DataFlow.Interpreter.#ilambda,DataFlow.Interpreter.##1#2{DataFlow.Interpreter.#iargs,DataFlow.Interpreter.##1#2{DataFlow.Interpreter.#ituple,Flux.#interp}}}}}}, ::Vararg{Any,N} where N\u001b[1m)\u001b[22m\u001b[22m at \u001b[1m/Users/mike/.julia/v0.6/DataFlow/src/interpreter.jl:13\u001b[22m\u001b[22m\n",
      " [53] \u001b[1miconst\u001b[22m\u001b[22m\u001b[1m(\u001b[22m\u001b[22m::Function, ::DataFlow.Interpreter.Context{DataFlow.Interpreter.##1#2{DataFlow.Interpreter.#iconst,DataFlow.Interpreter.##1#2{DataFlow.Interpreter.#iline,DataFlow.Interpreter.##1#2{DataFlow.Interpreter.#ilambda,DataFlow.Interpreter.##1#2{DataFlow.Interpreter.#iargs,DataFlow.Interpreter.##1#2{DataFlow.Interpreter.#ituple,Flux.#interp}}}}}}, ::Function, ::IVertex\u001b[1m)\u001b[22m\u001b[22m at \u001b[1m/Users/mike/.julia/v0.6/DataFlow/src/interpreter.jl:81\u001b[22m\u001b[22m\n",
      " [54] \u001b[1m(::DataFlow.Interpreter.##1#2{DataFlow.Interpreter.#iconst,DataFlow.Interpreter.##1#2{DataFlow.Interpreter.#iline,DataFlow.Interpreter.##1#2{DataFlow.Interpreter.#ilambda,DataFlow.Interpreter.##1#2{DataFlow.Interpreter.#iargs,DataFlow.Interpreter.##1#2{DataFlow.Interpreter.#ituple,Flux.#interp}}}}})\u001b[22m\u001b[22m\u001b[1m(\u001b[22m\u001b[22m::DataFlow.Interpreter.Context{DataFlow.Interpreter.##1#2{DataFlow.Interpreter.#iconst,DataFlow.Interpreter.##1#2{DataFlow.Interpreter.#iline,DataFlow.Interpreter.##1#2{DataFlow.Interpreter.#ilambda,DataFlow.Interpreter.##1#2{DataFlow.Interpreter.#iargs,DataFlow.Interpreter.##1#2{DataFlow.Interpreter.#ituple,Flux.#interp}}}}}}, ::Vararg{Any,N} where N\u001b[1m)\u001b[22m\u001b[22m at \u001b[1m/Users/mike/.julia/v0.6/DataFlow/src/interpreter.jl:13\u001b[22m\u001b[22m\n",
      " [55] \u001b[1minterpv\u001b[22m\u001b[22m\u001b[1m(\u001b[22m\u001b[22m::DataFlow.Interpreter.Context{DataFlow.Interpreter.##1#2{DataFlow.Interpreter.#iconst,DataFlow.Interpreter.##1#2{DataFlow.Interpreter.#iline,DataFlow.Interpreter.##1#2{DataFlow.Interpreter.#ilambda,DataFlow.Interpreter.##1#2{DataFlow.Interpreter.#iargs,DataFlow.Interpreter.##1#2{DataFlow.Interpreter.#ituple,Flux.#interp}}}}}}, ::IVertex\u001b[1m)\u001b[22m\u001b[22m at \u001b[1m/Users/mike/.julia/v0.6/DataFlow/src/interpreter.jl:43\u001b[22m\u001b[22m\n",
      " [56] \u001b[1mmap\u001b[22m\u001b[22m\u001b[1m(\u001b[22m\u001b[22m::DataFlow.Interpreter.##4#5{DataFlow.Interpreter.Context{DataFlow.Interpreter.##1#2{DataFlow.Interpreter.#iconst,DataFlow.Interpreter.##1#2{DataFlow.Interpreter.#iline,DataFlow.Interpreter.##1#2{DataFlow.Interpreter.#ilambda,DataFlow.Interpreter.##1#2{DataFlow.Interpreter.#iargs,DataFlow.Interpreter.##1#2{DataFlow.Interpreter.#ituple,Flux.#interp}}}}}}}, ::Tuple{IVertex,IVertex,IVertex}\u001b[1m)\u001b[22m\u001b[22m at \u001b[1m./tuple.jl:160\u001b[22m\u001b[22m\n",
      " [57] \u001b[1miargs\u001b[22m\u001b[22m\u001b[1m(\u001b[22m\u001b[22m::Function, ::DataFlow.Interpreter.Context{DataFlow.Interpreter.##1#2{DataFlow.Interpreter.#iconst,DataFlow.Interpreter.##1#2{DataFlow.Interpreter.#iline,DataFlow.Interpreter.##1#2{DataFlow.Interpreter.#ilambda,DataFlow.Interpreter.##1#2{DataFlow.Interpreter.#iargs,DataFlow.Interpreter.##1#2{DataFlow.Interpreter.#ituple,Flux.#interp}}}}}}, ::Function, ::IVertex, ::Vararg{IVertex,N} where N\u001b[1m)\u001b[22m\u001b[22m at \u001b[1m/Users/mike/.julia/v0.6/DataFlow/src/interpreter.jl:72\u001b[22m\u001b[22m\n",
      " [58] \u001b[1m(::DataFlow.Interpreter.##1#2{DataFlow.Interpreter.#iargs,DataFlow.Interpreter.##1#2{DataFlow.Interpreter.#ituple,Flux.#interp}})\u001b[22m\u001b[22m\u001b[1m(\u001b[22m\u001b[22m::DataFlow.Interpreter.Context{DataFlow.Interpreter.##1#2{DataFlow.Interpreter.#iconst,DataFlow.Interpreter.##1#2{DataFlow.Interpreter.#iline,DataFlow.Interpreter.##1#2{DataFlow.Interpreter.#ilambda,DataFlow.Interpreter.##1#2{DataFlow.Interpreter.#iargs,DataFlow.Interpreter.##1#2{DataFlow.Interpreter.#ituple,Flux.#interp}}}}}}, ::Vararg{Any,N} where N\u001b[1m)\u001b[22m\u001b[22m at \u001b[1m/Users/mike/.julia/v0.6/DataFlow/src/interpreter.jl:13\u001b[22m\u001b[22m\n",
      " [59] \u001b[1milambda\u001b[22m\u001b[22m\u001b[1m(\u001b[22m\u001b[22m::Function, ::DataFlow.Interpreter.Context{DataFlow.Interpreter.##1#2{DataFlow.Interpreter.#iconst,DataFlow.Interpreter.##1#2{DataFlow.Interpreter.#iline,DataFlow.Interpreter.##1#2{DataFlow.Interpreter.#ilambda,DataFlow.Interpreter.##1#2{DataFlow.Interpreter.#iargs,DataFlow.Interpreter.##1#2{DataFlow.Interpreter.#ituple,Flux.#interp}}}}}}, ::Function, ::IVertex, ::IVertex, ::Vararg{IVertex,N} where N\u001b[1m)\u001b[22m\u001b[22m at \u001b[1m/Users/mike/.julia/v0.6/DataFlow/src/interpreter.jl:81\u001b[22m\u001b[22m\n",
      " [60] \u001b[1m(::DataFlow.Interpreter.##1#2{DataFlow.Interpreter.#ilambda,DataFlow.Interpreter.##1#2{DataFlow.Interpreter.#iargs,DataFlow.Interpreter.##1#2{DataFlow.Interpreter.#ituple,Flux.#interp}}})\u001b[22m\u001b[22m\u001b[1m(\u001b[22m\u001b[22m::DataFlow.Interpreter.Context{DataFlow.Interpreter.##1#2{DataFlow.Interpreter.#iconst,DataFlow.Interpreter.##1#2{DataFlow.Interpreter.#iline,DataFlow.Interpreter.##1#2{DataFlow.Interpreter.#ilambda,DataFlow.Interpreter.##1#2{DataFlow.Interpreter.#iargs,DataFlow.Interpreter.##1#2{DataFlow.Interpreter.#ituple,Flux.#interp}}}}}}, ::Vararg{Any,N} where N\u001b[1m)\u001b[22m\u001b[22m at \u001b[1m/Users/mike/.julia/v0.6/DataFlow/src/interpreter.jl:13\u001b[22m\u001b[22m\n",
      " [61] \u001b[1miline\u001b[22m\u001b[22m\u001b[1m(\u001b[22m\u001b[22m::Function, ::DataFlow.Interpreter.Context{DataFlow.Interpreter.##1#2{DataFlow.Interpreter.#iconst,DataFlow.Interpreter.##1#2{DataFlow.Interpreter.#iline,DataFlow.Interpreter.##1#2{DataFlow.Interpreter.#ilambda,DataFlow.Interpreter.##1#2{DataFlow.Interpreter.#iargs,DataFlow.Interpreter.##1#2{DataFlow.Interpreter.#ituple,Flux.#interp}}}}}}, ::Function, ::IVertex, ::IVertex, ::Vararg{IVertex,N} where N\u001b[1m)\u001b[22m\u001b[22m at \u001b[1m/Users/mike/.julia/v0.6/DataFlow/src/interpreter.jl:81\u001b[22m\u001b[22m\n",
      " [62] \u001b[1m(::DataFlow.Interpreter.##1#2{DataFlow.Interpreter.#iline,DataFlow.Interpreter.##1#2{DataFlow.Interpreter.#ilambda,DataFlow.Interpreter.##1#2{DataFlow.Interpreter.#iargs,DataFlow.Interpreter.##1#2{DataFlow.Interpreter.#ituple,Flux.#interp}}}})\u001b[22m\u001b[22m\u001b[1m(\u001b[22m\u001b[22m::DataFlow.Interpreter.Context{DataFlow.Interpreter.##1#2{DataFlow.Interpreter.#iconst,DataFlow.Interpreter.##1#2{DataFlow.Interpreter.#iline,DataFlow.Interpreter.##1#2{DataFlow.Interpreter.#ilambda,DataFlow.Interpreter.##1#2{DataFlow.Interpreter.#iargs,DataFlow.Interpreter.##1#2{DataFlow.Interpreter.#ituple,Flux.#interp}}}}}}, ::Vararg{Any,N} where N\u001b[1m)\u001b[22m\u001b[22m at \u001b[1m/Users/mike/.julia/v0.6/DataFlow/src/interpreter.jl:13\u001b[22m\u001b[22m\n",
      " [63] \u001b[1miconst\u001b[22m\u001b[22m\u001b[1m(\u001b[22m\u001b[22m::Function, ::DataFlow.Interpreter.Context{DataFlow.Interpreter.##1#2{DataFlow.Interpreter.#iconst,DataFlow.Interpreter.##1#2{DataFlow.Interpreter.#iline,DataFlow.Interpreter.##1#2{DataFlow.Interpreter.#ilambda,DataFlow.Interpreter.##1#2{DataFlow.Interpreter.#iargs,DataFlow.Interpreter.##1#2{DataFlow.Interpreter.#ituple,Flux.#interp}}}}}}, ::Function, ::IVertex, ::IVertex, ::Vararg{IVertex,N} where N\u001b[1m)\u001b[22m\u001b[22m at \u001b[1m/Users/mike/.julia/v0.6/DataFlow/src/interpreter.jl:81\u001b[22m\u001b[22m\n",
      " [64] \u001b[1m(::DataFlow.Interpreter.##1#2{DataFlow.Interpreter.#iconst,DataFlow.Interpreter.##1#2{DataFlow.Interpreter.#iline,DataFlow.Interpreter.##1#2{DataFlow.Interpreter.#ilambda,DataFlow.Interpreter.##1#2{DataFlow.Interpreter.#iargs,DataFlow.Interpreter.##1#2{DataFlow.Interpreter.#ituple,Flux.#interp}}}}})\u001b[22m\u001b[22m\u001b[1m(\u001b[22m\u001b[22m::DataFlow.Interpreter.Context{DataFlow.Interpreter.##1#2{DataFlow.Interpreter.#iconst,DataFlow.Interpreter.##1#2{DataFlow.Interpreter.#iline,DataFlow.Interpreter.##1#2{DataFlow.Interpreter.#ilambda,DataFlow.Interpreter.##1#2{DataFlow.Interpreter.#iargs,DataFlow.Interpreter.##1#2{DataFlow.Interpreter.#ituple,Flux.#interp}}}}}}, ::Vararg{Any,N} where N\u001b[1m)\u001b[22m\u001b[22m at \u001b[1m/Users/mike/.julia/v0.6/DataFlow/src/interpreter.jl:13\u001b[22m\u001b[22m\n",
      " [65] \u001b[1minterpv\u001b[22m\u001b[22m\u001b[1m(\u001b[22m\u001b[22m::DataFlow.Interpreter.Context{DataFlow.Interpreter.##1#2{DataFlow.Interpreter.#iconst,DataFlow.Interpreter.##1#2{DataFlow.Interpreter.#iline,DataFlow.Interpreter.##1#2{DataFlow.Interpreter.#ilambda,DataFlow.Interpreter.##1#2{DataFlow.Interpreter.#iargs,DataFlow.Interpreter.##1#2{DataFlow.Interpreter.#ituple,Flux.#interp}}}}}}, ::IVertex\u001b[1m)\u001b[22m\u001b[22m at \u001b[1m/Users/mike/.julia/v0.6/DataFlow/src/interpreter.jl:43\u001b[22m\u001b[22m\n",
      " [66] \u001b[1miline\u001b[22m\u001b[22m\u001b[1m(\u001b[22m\u001b[22m::Function, ::DataFlow.Interpreter.Context{DataFlow.Interpreter.##1#2{DataFlow.Interpreter.#iconst,DataFlow.Interpreter.##1#2{DataFlow.Interpreter.#iline,DataFlow.Interpreter.##1#2{DataFlow.Interpreter.#ilambda,DataFlow.Interpreter.##1#2{DataFlow.Interpreter.#iargs,DataFlow.Interpreter.##1#2{DataFlow.Interpreter.#ituple,Flux.#interp}}}}}}, ::DataFlow.Line, ::IVertex\u001b[1m)\u001b[22m\u001b[22m at \u001b[1m/Users/mike/.julia/v0.6/DataFlow/src/interpreter.jl:62\u001b[22m\u001b[22m\n",
      " [67] \u001b[1m(::DataFlow.Interpreter.##1#2{DataFlow.Interpreter.#iline,DataFlow.Interpreter.##1#2{DataFlow.Interpreter.#ilambda,DataFlow.Interpreter.##1#2{DataFlow.Interpreter.#iargs,DataFlow.Interpreter.##1#2{DataFlow.Interpreter.#ituple,Flux.#interp}}}})\u001b[22m\u001b[22m\u001b[1m(\u001b[22m\u001b[22m::DataFlow.Interpreter.Context{DataFlow.Interpreter.##1#2{DataFlow.Interpreter.#iconst,DataFlow.Interpreter.##1#2{DataFlow.Interpreter.#iline,DataFlow.Interpreter.##1#2{DataFlow.Interpreter.#ilambda,DataFlow.Interpreter.##1#2{DataFlow.Interpreter.#iargs,DataFlow.Interpreter.##1#2{DataFlow.Interpreter.#ituple,Flux.#interp}}}}}}, ::Vararg{Any,N} where N\u001b[1m)\u001b[22m\u001b[22m at \u001b[1m/Users/mike/.julia/v0.6/DataFlow/src/interpreter.jl:13\u001b[22m\u001b[22m\n",
      " [68] \u001b[1miconst\u001b[22m\u001b[22m\u001b[1m(\u001b[22m\u001b[22m::Function, ::DataFlow.Interpreter.Context{DataFlow.Interpreter.##1#2{DataFlow.Interpreter.#iconst,DataFlow.Interpreter.##1#2{DataFlow.Interpreter.#iline,DataFlow.Interpreter.##1#2{DataFlow.Interpreter.#ilambda,DataFlow.Interpreter.##1#2{DataFlow.Interpreter.#iargs,DataFlow.Interpreter.##1#2{DataFlow.Interpreter.#ituple,Flux.#interp}}}}}}, ::DataFlow.Line, ::IVertex\u001b[1m)\u001b[22m\u001b[22m at \u001b[1m/Users/mike/.julia/v0.6/DataFlow/src/interpreter.jl:81\u001b[22m\u001b[22m\n",
      " [69] \u001b[1m(::DataFlow.Interpreter.##1#2{DataFlow.Interpreter.#iconst,DataFlow.Interpreter.##1#2{DataFlow.Interpreter.#iline,DataFlow.Interpreter.##1#2{DataFlow.Interpreter.#ilambda,DataFlow.Interpreter.##1#2{DataFlow.Interpreter.#iargs,DataFlow.Interpreter.##1#2{DataFlow.Interpreter.#ituple,Flux.#interp}}}}})\u001b[22m\u001b[22m\u001b[1m(\u001b[22m\u001b[22m::DataFlow.Interpreter.Context{DataFlow.Interpreter.##1#2{DataFlow.Interpreter.#iconst,DataFlow.Interpreter.##1#2{DataFlow.Interpreter.#iline,DataFlow.Interpreter.##1#2{DataFlow.Interpreter.#ilambda,DataFlow.Interpreter.##1#2{DataFlow.Interpreter.#iargs,DataFlow.Interpreter.##1#2{DataFlow.Interpreter.#ituple,Flux.#interp}}}}}}, ::Vararg{Any,N} where N\u001b[1m)\u001b[22m\u001b[22m at \u001b[1m/Users/mike/.julia/v0.6/DataFlow/src/interpreter.jl:13\u001b[22m\u001b[22m\n",
      " [70] \u001b[1minterpv\u001b[22m\u001b[22m\u001b[1m(\u001b[22m\u001b[22m::DataFlow.Interpreter.Context{DataFlow.Interpreter.##1#2{DataFlow.Interpreter.#iconst,DataFlow.Interpreter.##1#2{DataFlow.Interpreter.#iline,DataFlow.Interpreter.##1#2{DataFlow.Interpreter.#ilambda,DataFlow.Interpreter.##1#2{DataFlow.Interpreter.#iargs,DataFlow.Interpreter.##1#2{DataFlow.Interpreter.#ituple,Flux.#interp}}}}}}, ::IVertex\u001b[1m)\u001b[22m\u001b[22m at \u001b[1m/Users/mike/.julia/v0.6/DataFlow/src/interpreter.jl:43\u001b[22m\u001b[22m\n",
      " [71] \u001b[1mmap\u001b[22m\u001b[22m\u001b[1m(\u001b[22m\u001b[22m::DataFlow.Interpreter.##4#5{DataFlow.Interpreter.Context{DataFlow.Interpreter.##1#2{DataFlow.Interpreter.#iconst,DataFlow.Interpreter.##1#2{DataFlow.Interpreter.#iline,DataFlow.Interpreter.##1#2{DataFlow.Interpreter.#ilambda,DataFlow.Interpreter.##1#2{DataFlow.Interpreter.#iargs,DataFlow.Interpreter.##1#2{DataFlow.Interpreter.#ituple,Flux.#interp}}}}}}}, ::NTuple{4,IVertex}\u001b[1m)\u001b[22m\u001b[22m at \u001b[1m./tuple.jl:161\u001b[22m\u001b[22m\n",
      " [72] \u001b[1miargs\u001b[22m\u001b[22m\u001b[1m(\u001b[22m\u001b[22m::Function, ::DataFlow.Interpreter.Context{DataFlow.Interpreter.##1#2{DataFlow.Interpreter.#iconst,DataFlow.Interpreter.##1#2{DataFlow.Interpreter.#iline,DataFlow.Interpreter.##1#2{DataFlow.Interpreter.#ilambda,DataFlow.Interpreter.##1#2{DataFlow.Interpreter.#iargs,DataFlow.Interpreter.##1#2{DataFlow.Interpreter.#ituple,Flux.#interp}}}}}}, ::Function, ::IVertex, ::Vararg{IVertex,N} where N\u001b[1m)\u001b[22m\u001b[22m at \u001b[1m/Users/mike/.julia/v0.6/DataFlow/src/interpreter.jl:72\u001b[22m\u001b[22m\n",
      " [73] \u001b[1m(::DataFlow.Interpreter.##1#2{DataFlow.Interpreter.#iargs,DataFlow.Interpreter.##1#2{DataFlow.Interpreter.#ituple,Flux.#interp}})\u001b[22m\u001b[22m\u001b[1m(\u001b[22m\u001b[22m::DataFlow.Interpreter.Context{DataFlow.Interpreter.##1#2{DataFlow.Interpreter.#iconst,DataFlow.Interpreter.##1#2{DataFlow.Interpreter.#iline,DataFlow.Interpreter.##1#2{DataFlow.Interpreter.#ilambda,DataFlow.Interpreter.##1#2{DataFlow.Interpreter.#iargs,DataFlow.Interpreter.##1#2{DataFlow.Interpreter.#ituple,Flux.#interp}}}}}}, ::Vararg{Any,N} where N\u001b[1m)\u001b[22m\u001b[22m at \u001b[1m/Users/mike/.julia/v0.6/DataFlow/src/interpreter.jl:13\u001b[22m\u001b[22m\n",
      " [74] \u001b[1milambda\u001b[22m\u001b[22m\u001b[1m(\u001b[22m\u001b[22m::Function, ::DataFlow.Interpreter.Context{DataFlow.Interpreter.##1#2{DataFlow.Interpreter.#iconst,DataFlow.Interpreter.##1#2{DataFlow.Interpreter.#iline,DataFlow.Interpreter.##1#2{DataFlow.Interpreter.#ilambda,DataFlow.Interpreter.##1#2{DataFlow.Interpreter.#iargs,DataFlow.Interpreter.##1#2{DataFlow.Interpreter.#ituple,Flux.#interp}}}}}}, ::Function, ::IVertex, ::IVertex, ::Vararg{IVertex,N} where N\u001b[1m)\u001b[22m\u001b[22m at \u001b[1m/Users/mike/.julia/v0.6/DataFlow/src/interpreter.jl:81\u001b[22m\u001b[22m\n",
      " [75] \u001b[1m(::DataFlow.Interpreter.##1#2{DataFlow.Interpreter.#ilambda,DataFlow.Interpreter.##1#2{DataFlow.Interpreter.#iargs,DataFlow.Interpreter.##1#2{DataFlow.Interpreter.#ituple,Flux.#interp}}})\u001b[22m\u001b[22m\u001b[1m(\u001b[22m\u001b[22m::DataFlow.Interpreter.Context{DataFlow.Interpreter.##1#2{DataFlow.Interpreter.#iconst,DataFlow.Interpreter.##1#2{DataFlow.Interpreter.#iline,DataFlow.Interpreter.##1#2{DataFlow.Interpreter.#ilambda,DataFlow.Interpreter.##1#2{DataFlow.Interpreter.#iargs,DataFlow.Interpreter.##1#2{DataFlow.Interpreter.#ituple,Flux.#interp}}}}}}, ::Vararg{Any,N} where N\u001b[1m)\u001b[22m\u001b[22m at \u001b[1m/Users/mike/.julia/v0.6/DataFlow/src/interpreter.jl:13\u001b[22m\u001b[22m\n",
      " [76] \u001b[1miline\u001b[22m\u001b[22m\u001b[1m(\u001b[22m\u001b[22m::Function, ::DataFlow.Interpreter.Context{DataFlow.Interpreter.##1#2{DataFlow.Interpreter.#iconst,DataFlow.Interpreter.##1#2{DataFlow.Interpreter.#iline,DataFlow.Interpreter.##1#2{DataFlow.Interpreter.#ilambda,DataFlow.Interpreter.##1#2{DataFlow.Interpreter.#iargs,DataFlow.Interpreter.##1#2{DataFlow.Interpreter.#ituple,Flux.#interp}}}}}}, ::Function, ::IVertex, ::IVertex, ::Vararg{IVertex,N} where N\u001b[1m)\u001b[22m\u001b[22m at \u001b[1m/Users/mike/.julia/v0.6/DataFlow/src/interpreter.jl:81\u001b[22m\u001b[22m\n",
      " [77] \u001b[1m(::DataFlow.Interpreter.##1#2{DataFlow.Interpreter.#iline,DataFlow.Interpreter.##1#2{DataFlow.Interpreter.#ilambda,DataFlow.Interpreter.##1#2{DataFlow.Interpreter.#iargs,DataFlow.Interpreter.##1#2{DataFlow.Interpreter.#ituple,Flux.#interp}}}})\u001b[22m\u001b[22m\u001b[1m(\u001b[22m\u001b[22m::DataFlow.Interpreter.Context{DataFlow.Interpreter.##1#2{DataFlow.Interpreter.#iconst,DataFlow.Interpreter.##1#2{DataFlow.Interpreter.#iline,DataFlow.Interpreter.##1#2{DataFlow.Interpreter.#ilambda,DataFlow.Interpreter.##1#2{DataFlow.Interpreter.#iargs,DataFlow.Interpreter.##1#2{DataFlow.Interpreter.#ituple,Flux.#interp}}}}}}, ::Vararg{Any,N} where N\u001b[1m)\u001b[22m\u001b[22m at \u001b[1m/Users/mike/.julia/v0.6/DataFlow/src/interpreter.jl:13\u001b[22m\u001b[22m\n",
      " [78] \u001b[1miconst\u001b[22m\u001b[22m\u001b[1m(\u001b[22m\u001b[22m::Function, ::DataFlow.Interpreter.Context{DataFlow.Interpreter.##1#2{DataFlow.Interpreter.#iconst,DataFlow.Interpreter.##1#2{DataFlow.Interpreter.#iline,DataFlow.Interpreter.##1#2{DataFlow.Interpreter.#ilambda,DataFlow.Interpreter.##1#2{DataFlow.Interpreter.#iargs,DataFlow.Interpreter.##1#2{DataFlow.Interpreter.#ituple,Flux.#interp}}}}}}, ::Function, ::IVertex, ::IVertex, ::Vararg{IVertex,N} where N\u001b[1m)\u001b[22m\u001b[22m at \u001b[1m/Users/mike/.julia/v0.6/DataFlow/src/interpreter.jl:81\u001b[22m\u001b[22m\n",
      " [79] \u001b[1m(::DataFlow.Interpreter.##1#2{DataFlow.Interpreter.#iconst,DataFlow.Interpreter.##1#2{DataFlow.Interpreter.#iline,DataFlow.Interpreter.##1#2{DataFlow.Interpreter.#ilambda,DataFlow.Interpreter.##1#2{DataFlow.Interpreter.#iargs,DataFlow.Interpreter.##1#2{DataFlow.Interpreter.#ituple,Flux.#interp}}}}})\u001b[22m\u001b[22m\u001b[1m(\u001b[22m\u001b[22m::DataFlow.Interpreter.Context{DataFlow.Interpreter.##1#2{DataFlow.Interpreter.#iconst,DataFlow.Interpreter.##1#2{DataFlow.Interpreter.#iline,DataFlow.Interpreter.##1#2{DataFlow.Interpreter.#ilambda,DataFlow.Interpreter.##1#2{DataFlow.Interpreter.#iargs,DataFlow.Interpreter.##1#2{DataFlow.Interpreter.#ituple,Flux.#interp}}}}}}, ::Vararg{Any,N} where N\u001b[1m)\u001b[22m\u001b[22m at \u001b[1m/Users/mike/.julia/v0.6/DataFlow/src/interpreter.jl:13\u001b[22m\u001b[22m\n",
      " [80] \u001b[1minterpv\u001b[22m\u001b[22m\u001b[1m(\u001b[22m\u001b[22m::DataFlow.Interpreter.Context{DataFlow.Interpreter.##1#2{DataFlow.Interpreter.#iconst,DataFlow.Interpreter.##1#2{DataFlow.Interpreter.#iline,DataFlow.Interpreter.##1#2{DataFlow.Interpreter.#ilambda,DataFlow.Interpreter.##1#2{DataFlow.Interpreter.#iargs,DataFlow.Interpreter.##1#2{DataFlow.Interpreter.#ituple,Flux.#interp}}}}}}, ::IVertex\u001b[1m)\u001b[22m\u001b[22m at \u001b[1m/Users/mike/.julia/v0.6/DataFlow/src/interpreter.jl:43\u001b[22m\u001b[22m\n",
      " [81] \u001b[1mmap\u001b[22m\u001b[22m\u001b[1m(\u001b[22m\u001b[22m::DataFlow.Interpreter.##4#5{DataFlow.Interpreter.Context{DataFlow.Interpreter.##1#2{DataFlow.Interpreter.#iconst,DataFlow.Interpreter.##1#2{DataFlow.Interpreter.#iline,DataFlow.Interpreter.##1#2{DataFlow.Interpreter.#ilambda,DataFlow.Interpreter.##1#2{DataFlow.Interpreter.#iargs,DataFlow.Interpreter.##1#2{DataFlow.Interpreter.#ituple,Flux.#interp}}}}}}}, ::Tuple{IVertex,IVertex}\u001b[1m)\u001b[22m\u001b[22m at \u001b[1m./tuple.jl:159\u001b[22m\u001b[22m\n",
      " [82] \u001b[1miargs\u001b[22m\u001b[22m\u001b[1m(\u001b[22m\u001b[22m::Function, ::DataFlow.Interpreter.Context{DataFlow.Interpreter.##1#2{DataFlow.Interpreter.#iconst,DataFlow.Interpreter.##1#2{DataFlow.Interpreter.#iline,DataFlow.Interpreter.##1#2{DataFlow.Interpreter.#ilambda,DataFlow.Interpreter.##1#2{DataFlow.Interpreter.#iargs,DataFlow.Interpreter.##1#2{DataFlow.Interpreter.#ituple,Flux.#interp}}}}}}, ::Function, ::IVertex, ::Vararg{IVertex,N} where N\u001b[1m)\u001b[22m\u001b[22m at \u001b[1m/Users/mike/.julia/v0.6/DataFlow/src/interpreter.jl:72\u001b[22m\u001b[22m\n",
      " [83] \u001b[1m(::DataFlow.Interpreter.##1#2{DataFlow.Interpreter.#iargs,DataFlow.Interpreter.##1#2{DataFlow.Interpreter.#ituple,Flux.#interp}})\u001b[22m\u001b[22m\u001b[1m(\u001b[22m\u001b[22m::DataFlow.Interpreter.Context{DataFlow.Interpreter.##1#2{DataFlow.Interpreter.#iconst,DataFlow.Interpreter.##1#2{DataFlow.Interpreter.#iline,DataFlow.Interpreter.##1#2{DataFlow.Interpreter.#ilambda,DataFlow.Interpreter.##1#2{DataFlow.Interpreter.#iargs,DataFlow.Interpreter.##1#2{DataFlow.Interpreter.#ituple,Flux.#interp}}}}}}, ::Vararg{Any,N} where N\u001b[1m)\u001b[22m\u001b[22m at \u001b[1m/Users/mike/.julia/v0.6/DataFlow/src/interpreter.jl:13\u001b[22m\u001b[22m\n",
      " [84] \u001b[1milambda\u001b[22m\u001b[22m\u001b[1m(\u001b[22m\u001b[22m::Function, ::DataFlow.Interpreter.Context{DataFlow.Interpreter.##1#2{DataFlow.Interpreter.#iconst,DataFlow.Interpreter.##1#2{DataFlow.Interpreter.#iline,DataFlow.Interpreter.##1#2{DataFlow.Interpreter.#ilambda,DataFlow.Interpreter.##1#2{DataFlow.Interpreter.#iargs,DataFlow.Interpreter.##1#2{DataFlow.Interpreter.#ituple,Flux.#interp}}}}}}, ::Function, ::IVertex, ::IVertex, ::Vararg{IVertex,N} where N\u001b[1m)\u001b[22m\u001b[22m at \u001b[1m/Users/mike/.julia/v0.6/DataFlow/src/interpreter.jl:81\u001b[22m\u001b[22m\n",
      " [85] \u001b[1m(::DataFlow.Interpreter.##1#2{DataFlow.Interpreter.#ilambda,DataFlow.Interpreter.##1#2{DataFlow.Interpreter.#iargs,DataFlow.Interpreter.##1#2{DataFlow.Interpreter.#ituple,Flux.#interp}}})\u001b[22m\u001b[22m\u001b[1m(\u001b[22m\u001b[22m::DataFlow.Interpreter.Context{DataFlow.Interpreter.##1#2{DataFlow.Interpreter.#iconst,DataFlow.Interpreter.##1#2{DataFlow.Interpreter.#iline,DataFlow.Interpreter.##1#2{DataFlow.Interpreter.#ilambda,DataFlow.Interpreter.##1#2{DataFlow.Interpreter.#iargs,DataFlow.Interpreter.##1#2{DataFlow.Interpreter.#ituple,Flux.#interp}}}}}}, ::Vararg{Any,N} where N\u001b[1m)\u001b[22m\u001b[22m at \u001b[1m/Users/mike/.julia/v0.6/DataFlow/src/interpreter.jl:13\u001b[22m\u001b[22m\n",
      " [86] \u001b[1miline\u001b[22m\u001b[22m\u001b[1m(\u001b[22m\u001b[22m::Function, ::DataFlow.Interpreter.Context{DataFlow.Interpreter.##1#2{DataFlow.Interpreter.#iconst,DataFlow.Interpreter.##1#2{DataFlow.Interpreter.#iline,DataFlow.Interpreter.##1#2{DataFlow.Interpreter.#ilambda,DataFlow.Interpreter.##1#2{DataFlow.Interpreter.#iargs,DataFlow.Interpreter.##1#2{DataFlow.Interpreter.#ituple,Flux.#interp}}}}}}, ::Function, ::IVertex, ::IVertex, ::Vararg{IVertex,N} where N\u001b[1m)\u001b[22m\u001b[22m at \u001b[1m/Users/mike/.julia/v0.6/DataFlow/src/interpreter.jl:81\u001b[22m\u001b[22m\n",
      " [87] \u001b[1m(::DataFlow.Interpreter.##1#2{DataFlow.Interpreter.#iline,DataFlow.Interpreter.##1#2{DataFlow.Interpreter.#ilambda,DataFlow.Interpreter.##1#2{DataFlow.Interpreter.#iargs,DataFlow.Interpreter.##1#2{DataFlow.Interpreter.#ituple,Flux.#interp}}}})\u001b[22m\u001b[22m\u001b[1m(\u001b[22m\u001b[22m::DataFlow.Interpreter.Context{DataFlow.Interpreter.##1#2{DataFlow.Interpreter.#iconst,DataFlow.Interpreter.##1#2{DataFlow.Interpreter.#iline,DataFlow.Interpreter.##1#2{DataFlow.Interpreter.#ilambda,DataFlow.Interpreter.##1#2{DataFlow.Interpreter.#iargs,DataFlow.Interpreter.##1#2{DataFlow.Interpreter.#ituple,Flux.#interp}}}}}}, ::Vararg{Any,N} where N\u001b[1m)\u001b[22m\u001b[22m at \u001b[1m/Users/mike/.julia/v0.6/DataFlow/src/interpreter.jl:13\u001b[22m\u001b[22m\n",
      " [88] \u001b[1miconst\u001b[22m\u001b[22m\u001b[1m(\u001b[22m\u001b[22m::Function, ::DataFlow.Interpreter.Context{DataFlow.Interpreter.##1#2{DataFlow.Interpreter.#iconst,DataFlow.Interpreter.##1#2{DataFlow.Interpreter.#iline,DataFlow.Interpreter.##1#2{DataFlow.Interpreter.#ilambda,DataFlow.Interpreter.##1#2{DataFlow.Interpreter.#iargs,DataFlow.Interpreter.##1#2{DataFlow.Interpreter.#ituple,Flux.#interp}}}}}}, ::Function, ::IVertex, ::IVertex, ::Vararg{IVertex,N} where N\u001b[1m)\u001b[22m\u001b[22m at \u001b[1m/Users/mike/.julia/v0.6/DataFlow/src/interpreter.jl:81\u001b[22m\u001b[22m\n",
      " [89] \u001b[1m(::DataFlow.Interpreter.##1#2{DataFlow.Interpreter.#iconst,DataFlow.Interpreter.##1#2{DataFlow.Interpreter.#iline,DataFlow.Interpreter.##1#2{DataFlow.Interpreter.#ilambda,DataFlow.Interpreter.##1#2{DataFlow.Interpreter.#iargs,DataFlow.Interpreter.##1#2{DataFlow.Interpreter.#ituple,Flux.#interp}}}}})\u001b[22m\u001b[22m\u001b[1m(\u001b[22m\u001b[22m::DataFlow.Interpreter.Context{DataFlow.Interpreter.##1#2{DataFlow.Interpreter.#iconst,DataFlow.Interpreter.##1#2{DataFlow.Interpreter.#iline,DataFlow.Interpreter.##1#2{DataFlow.Interpreter.#ilambda,DataFlow.Interpreter.##1#2{DataFlow.Interpreter.#iargs,DataFlow.Interpreter.##1#2{DataFlow.Interpreter.#ituple,Flux.#interp}}}}}}, ::Vararg{Any,N} where N\u001b[1m)\u001b[22m\u001b[22m at \u001b[1m/Users/mike/.julia/v0.6/DataFlow/src/interpreter.jl:13\u001b[22m\u001b[22m\n",
      " [90] \u001b[1minterpv\u001b[22m\u001b[22m\u001b[1m(\u001b[22m\u001b[22m::DataFlow.Interpreter.Context{DataFlow.Interpreter.##1#2{DataFlow.Interpreter.#iconst,DataFlow.Interpreter.##1#2{DataFlow.Interpreter.#iline,DataFlow.Interpreter.##1#2{DataFlow.Interpreter.#ilambda,DataFlow.Interpreter.##1#2{DataFlow.Interpreter.#iargs,DataFlow.Interpreter.##1#2{DataFlow.Interpreter.#ituple,Flux.#interp}}}}}}, ::IVertex\u001b[1m)\u001b[22m\u001b[22m at \u001b[1m/Users/mike/.julia/v0.6/DataFlow/src/interpreter.jl:43\u001b[22m\u001b[22m\n",
      " [91] \u001b[1minterpret\u001b[22m\u001b[22m\u001b[1m(\u001b[22m\u001b[22m::DataFlow.Interpreter.Context{DataFlow.Interpreter.##1#2{DataFlow.Interpreter.#iconst,DataFlow.Interpreter.##1#2{DataFlow.Interpreter.#iline,DataFlow.Interpreter.##1#2{DataFlow.Interpreter.#ilambda,DataFlow.Interpreter.##1#2{DataFlow.Interpreter.#iargs,DataFlow.Interpreter.##1#2{DataFlow.Interpreter.#ituple,Flux.#interp}}}}}}, ::IVertex, ::IVertex, ::Vararg{IVertex,N} where N\u001b[1m)\u001b[22m\u001b[22m at \u001b[1m/Users/mike/.julia/v0.6/DataFlow/src/interpreter.jl:50\u001b[22m\u001b[22m\n",
      " [92] \u001b[1minterpret\u001b[22m\u001b[22m\u001b[1m(\u001b[22m\u001b[22m::DataFlow.Interpreter.Context{DataFlow.Interpreter.##1#2{DataFlow.Interpreter.#iconst,DataFlow.Interpreter.##1#2{DataFlow.Interpreter.#iline,DataFlow.Interpreter.##1#2{DataFlow.Interpreter.#ilambda,DataFlow.Interpreter.##1#2{DataFlow.Interpreter.#iargs,DataFlow.Interpreter.##1#2{DataFlow.Interpreter.#ituple,Flux.#interp}}}}}}, ::IVertex, ::NTuple{4,Array{Float32,2}}, ::Vararg{Any,N} where N\u001b[1m)\u001b[22m\u001b[22m at \u001b[1m/Users/mike/.julia/v0.6/DataFlow/src/interpreter.jl:53\u001b[22m\u001b[22m\n",
      " [93] \u001b[1mmacro expansion\u001b[22m\u001b[22m at \u001b[1m/Users/mike/.julia/v0.6/DataFlow/src/interpreter.jl:135\u001b[22m\u001b[22m [inlined]\n",
      " [94] \u001b[1minterp\u001b[22m\u001b[22m\u001b[1m(\u001b[22m\u001b[22m::DataFlow.Interpreter.Context{DataFlow.Interpreter.##1#2{DataFlow.Interpreter.#iconst,DataFlow.Interpreter.##1#2{DataFlow.Interpreter.#iline,DataFlow.Interpreter.##1#2{DataFlow.Interpreter.#ilambda,DataFlow.Interpreter.##1#2{DataFlow.Interpreter.#iargs,DataFlow.Interpreter.##1#2{DataFlow.Interpreter.#ituple,Flux.#interp}}}}}}, ::Flux.Capacitor, ::NTuple{4,Array{Float32,2}}, ::Vararg{Any,N} where N\u001b[1m)\u001b[22m\u001b[22m at \u001b[1m/Users/mike/.julia/v0.6/Flux/src/compiler/interp.jl:19\u001b[22m\u001b[22m\n",
      " [95] \u001b[1minterpmodel\u001b[22m\u001b[22m\u001b[1m(\u001b[22m\u001b[22m::Flux.Capacitor, ::NTuple{4,Array{Float32,2}}, ::Vararg{Any,N} where N\u001b[1m)\u001b[22m\u001b[22m at \u001b[1m/Users/mike/.julia/v0.6/Flux/src/compiler/interp.jl:26\u001b[22m\u001b[22m\n",
      " [96] \u001b[1m(::Flux.Capacitor)\u001b[22m\u001b[22m\u001b[1m(\u001b[22m\u001b[22m::NTuple{4,Array{Float32,2}}, ::Vararg{Any,N} where N\u001b[1m)\u001b[22m\u001b[22m at \u001b[1m/Users/mike/.julia/v0.6/Flux/src/compiler/interp.jl:35\u001b[22m\u001b[22m\n",
      " [97] \u001b[1m(::Flux.Stateful)\u001b[22m\u001b[22m\u001b[1m(\u001b[22m\u001b[22m::Array{Int64,2}, ::Vararg{Array{Int64,2},N} where N\u001b[1m)\u001b[22m\u001b[22m at \u001b[1m/Users/mike/.julia/v0.6/Flux/src/compiler/loops.jl:20\u001b[22m\u001b[22m\n",
      " [98] \u001b[1msample\u001b[22m\u001b[22m\u001b[1m(\u001b[22m\u001b[22m::Flux.Chain, ::Int64, ::Int64\u001b[1m)\u001b[22m\u001b[22m at \u001b[1m./In[24]:6\u001b[22m\u001b[22m\n",
      " [99] \u001b[1msample\u001b[22m\u001b[22m\u001b[1m(\u001b[22m\u001b[22m::Flux.Chain, ::Int64\u001b[1m)\u001b[22m\u001b[22m at \u001b[1m./In[24]:3\u001b[22m\u001b[22m\n",
      " [100] \u001b[1minclude_string\u001b[22m\u001b[22m\u001b[1m(\u001b[22m\u001b[22m::String, ::String\u001b[1m)\u001b[22m\u001b[22m at \u001b[1m./loading.jl:515\u001b[22m\u001b[22m\n",
      " [101] \u001b[1mexecute_request\u001b[22m\u001b[22m\u001b[1m(\u001b[22m\u001b[22m::ZMQ.Socket, ::IJulia.Msg\u001b[1m)\u001b[22m\u001b[22m at \u001b[1m/Users/mike/.julia/v0.6/IJulia/src/execute_request.jl:156\u001b[22m\u001b[22m\n",
      " [102] \u001b[1meventloop\u001b[22m\u001b[22m\u001b[1m(\u001b[22m\u001b[22m::ZMQ.Socket\u001b[1m)\u001b[22m\u001b[22m at \u001b[1m/Users/mike/.julia/v0.6/IJulia/src/eventloop.jl:8\u001b[22m\u001b[22m\n",
      " [103] \u001b[1m(::IJulia.##9#12)\u001b[22m\u001b[22m\u001b[1m(\u001b[22m\u001b[22m\u001b[1m)\u001b[22m\u001b[22m at \u001b[1m./task.jl:335\u001b[22m\u001b[22m\n",
      "while loading In[28], in expression starting on line 2\n"
     ]
    },
    {
     "name": "stdout",
     "output_type": "stream",
     "text": [
      "riving!\n",
      "This is Wits bestowed upon his love:\n",
      "Now save the Doath, would I have either,\n",
      "The gentle state of joy out of deband will.\n",
      "First I think in a threw rap'd his doing.\n",
      "\n",
      "PROTERESTERETRA:\n",
      "We'll be tresp'd! Come you.\n",
      "That thee the worget to wably, to our commands,\n",
      "To broach-moon seas, he under forthound here.\n",
      "S and worthy armour to my blood,\n",
      "And he wark'd unto their state shall be not pleases than\n",
      "you; and they were a Rome unfolliel,\n",
      "And to the oblece, rits challed with us;\n",
      "The side at Chrisless ladious will I lin,\n",
      "The trice of his humane, thus I give them unspucianter:\n",
      "It was this bolded discretress of thy courtress\n",
      "Do you double.\n",
      "\n",
      "SISS\n",
      "Song; fie out it! lest I live to helple-mine, to lault,\n",
      "Night with a build hence continue my refeats.\n",
      "\n",
      "FLIACATRO:\n",
      "No sorn that you! but I?\n",
      "\n",
      "WALBOT:\n",
      "Most death; thoughess dear death; and thrite by the hand,\n",
      "Newest-uphortunl'd me from the time and knees,\n",
      "and as 'twixt my sister Titus avoid\n",
      "Anon, within his dreading quick and love\n",
      "With such a gift on my \n"
     ]
    }
   ],
   "source": [
    "model = open(deserialize, \"res/shakes.jls\")\n",
    "sample(model[1:end-1], 1000) |> println"
   ]
  },
  {
   "cell_type": "code",
   "execution_count": null,
   "metadata": {
    "collapsed": false
   },
   "outputs": [],
   "source": [
    "@net type MyLSTM\n",
    "  Wxf; Wyf; bf\n",
    "  Wxi; Wyi; bi\n",
    "  Wxo; Wyo; bo\n",
    "  Wxc; Wyc; bc\n",
    "  y; state\n",
    "  function (x)\n",
    "    # Gates\n",
    "    forget = σ( x * Wxf .+ y{-1} * Wyf .+ bf )\n",
    "    input  = σ( x * Wxi .+ y{-1} * Wyi .+ bi )\n",
    "    output = σ( x * Wxo .+ y{-1} * Wyo .+ bo )\n",
    "    # State update and output\n",
    "    state′ = tanh( x * Wxc .+ y{-1} * Wyc .+ bc )\n",
    "    state  = forget .* state{-1} .+ input .* state′\n",
    "    y = output .* tanh(state)\n",
    "  end\n",
    "end\n",
    "\n",
    "MyLSTM(in, out) =\n",
    "  LSTM(vcat([[init((in, out)), init((out, out)), init((1, out))] for _ = 1:4]...)...,\n",
    "       zeros(Float32, (1, out)), zeros(Float32, (1, out)))"
   ]
  },
  {
   "cell_type": "code",
   "execution_count": null,
   "metadata": {
    "collapsed": true
   },
   "outputs": [],
   "source": []
  }
 ],
 "metadata": {
  "kernelspec": {
   "display_name": "Julia 0.6.0-rc2",
   "language": "julia",
   "name": "julia-0.6"
  },
  "language_info": {
   "file_extension": ".jl",
   "mimetype": "application/julia",
   "name": "julia",
   "version": "0.6.0"
  }
 },
 "nbformat": 4,
 "nbformat_minor": 2
}
